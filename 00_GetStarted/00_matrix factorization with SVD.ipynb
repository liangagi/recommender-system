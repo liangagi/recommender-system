{
 "cells": [
  {
   "cell_type": "markdown",
   "id": "2325172e-350f-49b5-b846-753ab2fd5a8b",
   "metadata": {
    "tags": []
   },
   "source": [
    "# Build a recommender system and recommend top-N items\n",
    "Collaborative filtering: matrix factorization with SVD algorithm"
   ]
  },
  {
   "cell_type": "markdown",
   "id": "14aae840-353c-44aa-9c0f-aa3d53215777",
   "metadata": {},
   "source": [
    "## load package"
   ]
  },
  {
   "cell_type": "code",
   "execution_count": 1,
   "id": "26d3f78f-4ee5-4935-af5a-da78c5bb4b57",
   "metadata": {},
   "outputs": [],
   "source": [
    "from surprise import SVD\n",
    "\n",
    "## put utils folder in the same directory as the notebook\n",
    "from utils.MovieLens import MovieLens"
   ]
  },
  {
   "cell_type": "markdown",
   "id": "ff1c48b0-5373-4358-9442-ab1e582132b1",
   "metadata": {},
   "source": [
    "## utils function"
   ]
  },
  {
   "cell_type": "code",
   "execution_count": 2,
   "id": "dea4b205-751d-47d2-8157-983ff481feeb",
   "metadata": {
    "tags": []
   },
   "outputs": [],
   "source": [
    "## get anti-test items for a user\n",
    "def BuildAntiTestSetForUser(testSubject, trainset):\n",
    "    fill = trainset.global_mean\n",
    "\n",
    "    anti_testset = []\n",
    "    # convert raw id to inner id requested by \"surprise\" lib\n",
    "    u = trainset.to_inner_uid(str(testSubject))\n",
    "    # user rated items\n",
    "    user_items = set([j for (j, _) in trainset.ur[u]])\n",
    "    # items not rated by the user, and rating is imputed by global_mean for evaluation \n",
    "    anti_testset += [(trainset.to_raw_uid(u), trainset.to_raw_iid(i), fill) for i in trainset.all_items() if i not in user_items]\n",
    "    \n",
    "    return anti_testset"
   ]
  },
  {
   "cell_type": "markdown",
   "id": "d29302b5-d015-488c-961b-4a61220b0b89",
   "metadata": {},
   "source": [
    "## read data"
   ]
  },
  {
   "cell_type": "code",
   "execution_count": 4,
   "id": "d54cb57a-fb37-4652-a100-b8fc868dd73a",
   "metadata": {},
   "outputs": [
    {
     "name": "stdout",
     "output_type": "stream",
     "text": [
      "Loading movie ratings...\n"
     ]
    },
    {
     "data": {
      "text/plain": [
       "list"
      ]
     },
     "execution_count": 4,
     "metadata": {},
     "output_type": "execute_result"
    }
   ],
   "source": [
    "# Pick an arbitrary test subject\n",
    "testSubject = 85\n",
    "\n",
    "ml = MovieLens()\n",
    "\n",
    "print(\"Loading movie ratings...\")\n",
    "data = ml.loadMovieLensLatestSmall()\n",
    "\n",
    "userRatings = ml.getUserRatings(testSubject)\n",
    "type(userRatings)"
   ]
  },
  {
   "cell_type": "code",
   "execution_count": 5,
   "id": "4e2de04e-330a-4aab-b26d-c69015a06bb9",
   "metadata": {},
   "outputs": [
    {
     "data": {
      "text/plain": [
       "[(2, 5.0), (3, 2.0), (5, 3.0), (10, 5.0), (19, 3.0)]"
      ]
     },
     "execution_count": 5,
     "metadata": {},
     "output_type": "execute_result"
    }
   ],
   "source": [
    "## example for (item, rating)\n",
    "userRatings[:5]"
   ]
  },
  {
   "cell_type": "code",
   "execution_count": 6,
   "id": "10c2e21e-5951-48b6-9b41-45d170950820",
   "metadata": {},
   "outputs": [
    {
     "name": "stdout",
     "output_type": "stream",
     "text": [
      "\n",
      "User  85  loved these movies:\n",
      "Jumanji (1995)\n",
      "GoldenEye (1995)\n",
      "Braveheart (1995)\n",
      "Jerky Boys, The (1995)\n",
      "LÃ©on: The Professional (a.k.a. The Professional) (LÃ©on) (1994)\n",
      "Pulp Fiction (1994)\n",
      "Stargate (1994)\n",
      "Shawshank Redemption, The (1994)\n",
      "Star Trek: Generations (1994)\n",
      "Clear and Present Danger (1994)\n",
      "Speed (1994)\n",
      "True Lies (1994)\n",
      "Fugitive, The (1993)\n",
      "Jurassic Park (1993)\n",
      "Terminator 2: Judgment Day (1991)\n",
      "Mission: Impossible (1996)\n",
      "Rock, The (1996)\n",
      "\n",
      "...and didn't like these movies:\n",
      "Grumpier Old Men (1995)\n",
      "Mortal Kombat (1995)\n",
      "Postman, The (Postino, Il) (1994)\n",
      "Casper (1995)\n",
      "Lord of Illusions (1995)\n",
      "Mighty Morphin Power Rangers: The Movie (1995)\n",
      "Prophecy, The (1995)\n",
      "Dolores Claiborne (1995)\n",
      "Heavenly Creatures (1994)\n",
      "Little Women (1994)\n",
      "Miracle on 34th Street (1994)\n",
      "Nell (1994)\n",
      "Poison Ivy II (1996)\n",
      "Tank Girl (1995)\n",
      "While You Were Sleeping (1995)\n",
      "Wes Craven's New Nightmare (Nightmare on Elm Street Part 7: Freddy's Finale, A) (1994)\n",
      "Naked Gun 33 1/3: The Final Insult (1994)\n",
      "Richie Rich (1994)\n",
      "Beverly Hills Cop III (1994)\n",
      "Philadelphia (1993)\n",
      "Schindler's List (1993)\n",
      "Super Mario Bros. (1993)\n",
      "Nightmare Before Christmas, The (1993)\n",
      "Snow White and the Seven Dwarfs (1937)\n",
      "Operation Dumbo Drop (1995)\n",
      "Oliver & Company (1988)\n"
     ]
    }
   ],
   "source": [
    "## show user's loved and hated items\n",
    "loved = []\n",
    "hated = []\n",
    "for ratings in userRatings:\n",
    "    if (float(ratings[1]) > 4.0):\n",
    "        loved.append(ratings)\n",
    "    if (float(ratings[1]) < 3.0):\n",
    "        hated.append(ratings)\n",
    "\n",
    "print(\"\\nUser \", testSubject, \" loved these movies:\")\n",
    "for ratings in loved:\n",
    "    print(ml.getMovieName(ratings[0]))\n",
    "    \n",
    "print(\"\\n...and didn't like these movies:\")\n",
    "for ratings in hated:\n",
    "    print(ml.getMovieName(ratings[0]))"
   ]
  },
  {
   "cell_type": "markdown",
   "id": "2fb4865b-28e5-45d9-af04-934bdcb2e52c",
   "metadata": {},
   "source": [
    "## Collaborative filtering: matrix factorization with SVD algorithm"
   ]
  },
  {
   "cell_type": "code",
   "execution_count": 7,
   "id": "42b4c7a5-671e-42bf-bf05-eb31c0c5dfa7",
   "metadata": {},
   "outputs": [
    {
     "name": "stdout",
     "output_type": "stream",
     "text": [
      "\n",
      "Building recommendation model...\n"
     ]
    },
    {
     "data": {
      "text/plain": [
       "<surprise.prediction_algorithms.matrix_factorization.SVD at 0x7f7f5d98dfa0>"
      ]
     },
     "execution_count": 7,
     "metadata": {},
     "output_type": "execute_result"
    }
   ],
   "source": [
    "print(\"\\nBuilding recommendation model...\")\n",
    "## take all data as the training set\n",
    "trainSet = data.build_full_trainset()\n",
    "\n",
    "algo = SVD(random_state=10)\n",
    "algo.fit(trainSet)"
   ]
  },
  {
   "cell_type": "code",
   "execution_count": 12,
   "id": "efdafe0c-6131-4f48-88be-32383e6665bf",
   "metadata": {},
   "outputs": [
    {
     "data": {
      "text/plain": [
       "[('85', '31', 3.543608255669773),\n",
       " ('85', '1029', 3.543608255669773),\n",
       " ('85', '1061', 3.543608255669773),\n",
       " ('85', '1129', 3.543608255669773),\n",
       " ('85', '1172', 3.543608255669773)]"
      ]
     },
     "execution_count": 12,
     "metadata": {},
     "output_type": "execute_result"
    }
   ],
   "source": [
    "## take only unrated items for this user\n",
    "testSet = BuildAntiTestSetForUser(testSubject, trainSet)\n",
    "\n",
    "# rating is imputed by global_mean\n",
    "testSet[:5]"
   ]
  },
  {
   "cell_type": "code",
   "execution_count": 8,
   "id": "4e745439-cf4c-4b4e-bf90-759c1d32875c",
   "metadata": {},
   "outputs": [
    {
     "name": "stdout",
     "output_type": "stream",
     "text": [
      "Computing recommendations...\n"
     ]
    },
    {
     "data": {
      "text/plain": [
       "list"
      ]
     },
     "execution_count": 8,
     "metadata": {},
     "output_type": "execute_result"
    }
   ],
   "source": [
    "print(\"Computing recommendations...\")\n",
    "predictions = algo.test(testSet)\n",
    "type(predictions)"
   ]
  },
  {
   "cell_type": "code",
   "execution_count": 9,
   "id": "94cf873d-2259-466d-8da0-74bc3e62c189",
   "metadata": {},
   "outputs": [
    {
     "data": {
      "text/plain": [
       "[Prediction(uid='85', iid='31', r_ui=3.543608255669773, est=3.1324638482291762, details={'was_impossible': False}),\n",
       " Prediction(uid='85', iid='1029', r_ui=3.543608255669773, est=3.2853604905261515, details={'was_impossible': False}),\n",
       " Prediction(uid='85', iid='1061', r_ui=3.543608255669773, est=3.3872287517216773, details={'was_impossible': False}),\n",
       " Prediction(uid='85', iid='1129', r_ui=3.543608255669773, est=3.4175764210399016, details={'was_impossible': False}),\n",
       " Prediction(uid='85', iid='1172', r_ui=3.543608255669773, est=3.912568105019612, details={'was_impossible': False})]"
      ]
     },
     "execution_count": 9,
     "metadata": {},
     "output_type": "execute_result"
    }
   ],
   "source": [
    "predictions[:5]"
   ]
  },
  {
   "cell_type": "markdown",
   "id": "58be869f-0980-4f57-b31b-e1bbfbd10ca2",
   "metadata": {},
   "source": [
    "## get top-N recommendations"
   ]
  },
  {
   "cell_type": "code",
   "execution_count": 11,
   "id": "7f47ecbb-3eed-4dac-a2e8-11d6a4805946",
   "metadata": {},
   "outputs": [
    {
     "name": "stdout",
     "output_type": "stream",
     "text": [
      "\n",
      "We recommend:\n",
      "Seven Samurai (Shichinin no samurai) (1954)\n",
      "There Will Be Blood (2007)\n",
      "Dark Knight, The (2008)\n",
      "Ran (1985)\n",
      "Usual Suspects, The (1995)\n",
      "Night of the Living Dead (1968)\n",
      "Bowling for Columbine (2002)\n",
      "Hurt Locker, The (2008)\n",
      "Harvey (1950)\n",
      "Departed, The (2006)\n"
     ]
    }
   ],
   "source": [
    "recommendations = []\n",
    "\n",
    "print (\"\\nWe recommend:\")\n",
    "for userID, movieID, actualRating, estimatedRating, _ in predictions:\n",
    "    intMovieID = int(movieID)\n",
    "    recommendations.append((intMovieID, estimatedRating))\n",
    "\n",
    "## sort by estimatedRating descreasingly\n",
    "recommendations.sort(key=lambda x: x[1], reverse=True)\n",
    "\n",
    "# top-10\n",
    "for ratings in recommendations[:10]:\n",
    "    print(ml.getMovieName(ratings[0]))"
   ]
  }
 ],
 "metadata": {
  "kernelspec": {
   "display_name": "Python 3 (ipykernel)",
   "language": "python",
   "name": "python3"
  },
  "language_info": {
   "codemirror_mode": {
    "name": "ipython",
    "version": 3
   },
   "file_extension": ".py",
   "mimetype": "text/x-python",
   "name": "python",
   "nbconvert_exporter": "python",
   "pygments_lexer": "ipython3",
   "version": "3.7.9"
  }
 },
 "nbformat": 4,
 "nbformat_minor": 5
}
