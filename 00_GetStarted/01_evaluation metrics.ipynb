{
 "cells": [
  {
   "cell_type": "markdown",
   "id": "ea7aa034-1755-4043-91c9-c1141145ce41",
   "metadata": {},
   "source": [
    "# Evaluate offline performance metrics of RS\n",
    "Collaborative filtering: matrix factorization with SVD algorithm"
   ]
  },
  {
   "cell_type": "markdown",
   "id": "4d184cae-793e-48f2-92a8-1b3a09981337",
   "metadata": {},
   "source": [
    "## load package"
   ]
  },
  {
   "cell_type": "code",
   "execution_count": 1,
   "id": "bc58883d-b11a-46b5-a030-c560eacece0e",
   "metadata": {},
   "outputs": [],
   "source": [
    "from surprise import SVD, KNNBaseline\n",
    "from surprise.model_selection import train_test_split, LeaveOneOut\n",
    "\n",
    "## put utils folder in the same directory as the notebook\n",
    "from utils.MovieLens import MovieLens\n",
    "from utils.RecommenderMetrics import RecommenderMetrics"
   ]
  },
  {
   "cell_type": "markdown",
   "id": "9e96eeb8-9b29-4bd9-b7b9-36e34704f5a1",
   "metadata": {},
   "source": [
    "## read data"
   ]
  },
  {
   "cell_type": "code",
   "execution_count": 2,
   "id": "aae9842c-e8d2-4422-9b72-1d4173ec9f04",
   "metadata": {},
   "outputs": [
    {
     "name": "stdout",
     "output_type": "stream",
     "text": [
      "Loading movie ratings...\n"
     ]
    },
    {
     "data": {
      "text/plain": [
       "surprise.dataset.DatasetAutoFolds"
      ]
     },
     "execution_count": 2,
     "metadata": {},
     "output_type": "execute_result"
    }
   ],
   "source": [
    "ml = MovieLens()\n",
    "\n",
    "print(\"Loading movie ratings...\")\n",
    "data = ml.loadMovieLensLatestSmall()\n",
    "type(data)"
   ]
  },
  {
   "cell_type": "markdown",
   "id": "71bd6677-eea2-460f-ba2e-e7bd810b6376",
   "metadata": {},
   "source": [
    "## compute movie popularity ranks to measure novelty later"
   ]
  },
  {
   "cell_type": "code",
   "execution_count": 6,
   "id": "fb9c385b-5203-489e-af6d-7fa377c944c2",
   "metadata": {},
   "outputs": [
    {
     "name": "stdout",
     "output_type": "stream",
     "text": [
      "\n",
      "Computing movie popularity ranks so we can measure novelty later...\n"
     ]
    },
    {
     "data": {
      "text/plain": [
       "collections.defaultdict"
      ]
     },
     "execution_count": 6,
     "metadata": {},
     "output_type": "execute_result"
    }
   ],
   "source": [
    "print(\"\\nComputing movie popularity ranks so we can measure novelty later...\")\n",
    "rankings = ml.getPopularityRanks()\n",
    "type(rankings)"
   ]
  },
  {
   "cell_type": "code",
   "execution_count": 7,
   "id": "d1e6a58d-cc22-4299-bd66-5f82998c6ab6",
   "metadata": {},
   "outputs": [
    {
     "data": {
      "text/plain": [
       "9066"
      ]
     },
     "execution_count": 7,
     "metadata": {},
     "output_type": "execute_result"
    }
   ],
   "source": [
    "len(rankings.keys())"
   ]
  },
  {
   "cell_type": "code",
   "execution_count": 13,
   "id": "2ce4ec25-66d2-404e-83db-075a733e9d5e",
   "metadata": {},
   "outputs": [
    {
     "name": "stdout",
     "output_type": "stream",
     "text": [
      "0\n",
      "8\n",
      "127\n",
      "344\n",
      "1790\n"
     ]
    }
   ],
   "source": [
    "## items by popularity ranks\n",
    "for i in range(5):\n",
    "    print(rankings[i])"
   ]
  },
  {
   "cell_type": "markdown",
   "id": "fe31ace3-1fe1-4e70-bb31-9dd222c3ccad",
   "metadata": {},
   "source": [
    "## compute item similarities to measure diversity later"
   ]
  },
  {
   "cell_type": "code",
   "execution_count": 18,
   "id": "df91c719-9861-428a-a6fe-1081c641e851",
   "metadata": {},
   "outputs": [
    {
     "name": "stdout",
     "output_type": "stream",
     "text": [
      "\n",
      "Computing item similarities so we can measure diversity later...\n",
      "Estimating biases using als...\n",
      "Computing the pearson_baseline similarity matrix...\n",
      "Done computing similarity matrix.\n"
     ]
    },
    {
     "data": {
      "text/plain": [
       "<surprise.prediction_algorithms.knns.KNNBaseline at 0x7fc446d27400>"
      ]
     },
     "execution_count": 18,
     "metadata": {},
     "output_type": "execute_result"
    }
   ],
   "source": [
    "print(\"\\nComputing item similarities so we can measure diversity later...\")\n",
    "fullTrainSet = data.build_full_trainset()\n",
    "\n",
    "sim_options = {'name': 'pearson_baseline', 'user_based': False}\n",
    "# SVD in 'surprise' lib doesn't compute item similarity itself\n",
    "simsAlgo = KNNBaseline(sim_options=sim_options) \n",
    "simsAlgo.fit(fullTrainSet)"
   ]
  },
  {
   "cell_type": "code",
   "execution_count": 19,
   "id": "77ab0af7-986e-49ef-94b4-077879b76e63",
   "metadata": {},
   "outputs": [
    {
     "data": {
      "text/plain": [
       "surprise.prediction_algorithms.knns.KNNBaseline"
      ]
     },
     "execution_count": 19,
     "metadata": {},
     "output_type": "execute_result"
    }
   ],
   "source": [
    "type(simsAlgo)"
   ]
  },
  {
   "cell_type": "markdown",
   "id": "f784d7a3-6cc6-478c-b436-1d47360db84c",
   "metadata": {},
   "source": [
    "## Collaborative filtering: matrix factorization with SVD algorithm"
   ]
  },
  {
   "cell_type": "code",
   "execution_count": 15,
   "id": "5311a556-74f9-4276-b0b7-5d3b19f29904",
   "metadata": {},
   "outputs": [
    {
     "name": "stdout",
     "output_type": "stream",
     "text": [
      "\n",
      "Building recommendation model...\n"
     ]
    },
    {
     "data": {
      "text/plain": [
       "surprise.trainset.Trainset"
      ]
     },
     "execution_count": 15,
     "metadata": {},
     "output_type": "execute_result"
    }
   ],
   "source": [
    "## to save run time, not doing k-fold CV\n",
    "print(\"\\nBuilding recommendation model...\")\n",
    "trainSet, testSet = train_test_split(data, test_size=.25, random_state=1)\n",
    "type(trainSet)"
   ]
  },
  {
   "cell_type": "code",
   "execution_count": 17,
   "id": "30195186-1687-416d-a618-a97e0366ee76",
   "metadata": {},
   "outputs": [
    {
     "data": {
      "text/plain": [
       "<surprise.prediction_algorithms.matrix_factorization.SVD at 0x7fc446c8f040>"
      ]
     },
     "execution_count": 17,
     "metadata": {},
     "output_type": "execute_result"
    }
   ],
   "source": [
    "algo = SVD(random_state=10)\n",
    "algo.fit(trainSet)"
   ]
  },
  {
   "cell_type": "code",
   "execution_count": 20,
   "id": "80aaa08e-83d1-41b1-bee9-1814bc1df416",
   "metadata": {},
   "outputs": [
    {
     "data": {
      "text/plain": [
       "surprise.prediction_algorithms.matrix_factorization.SVD"
      ]
     },
     "execution_count": 20,
     "metadata": {},
     "output_type": "execute_result"
    }
   ],
   "source": [
    "type(algo)"
   ]
  },
  {
   "cell_type": "code",
   "execution_count": 21,
   "id": "f6216f62-0cae-4d85-a42e-f6cada8d6827",
   "metadata": {},
   "outputs": [
    {
     "name": "stdout",
     "output_type": "stream",
     "text": [
      "\n",
      "Computing recommendations...\n"
     ]
    },
    {
     "data": {
      "text/plain": [
       "list"
      ]
     },
     "execution_count": 21,
     "metadata": {},
     "output_type": "execute_result"
    }
   ],
   "source": [
    "print(\"\\nComputing recommendations...\")\n",
    "predictions = algo.test(testSet) # get rating predictions\n",
    "type(predictions)"
   ]
  },
  {
   "cell_type": "code",
   "execution_count": 22,
   "id": "9bf3e1b8-a4f1-47cd-a2b0-fd70553ee3db",
   "metadata": {},
   "outputs": [
    {
     "data": {
      "text/plain": [
       "[Prediction(uid='387', iid='3801', r_ui=4.0, est=3.8238706669975406, details={'was_impossible': False}),\n",
       " Prediction(uid='534', iid='507', r_ui=4.0, est=3.7701088018860327, details={'was_impossible': False}),\n",
       " Prediction(uid='480', iid='8874', r_ui=5.0, est=4.375936145730298, details={'was_impossible': False}),\n",
       " Prediction(uid='575', iid='3469', r_ui=4.0, est=3.666028378036622, details={'was_impossible': False}),\n",
       " Prediction(uid='214', iid='1219', r_ui=4.0, est=4.648309363932954, details={'was_impossible': False})]"
      ]
     },
     "execution_count": 22,
     "metadata": {},
     "output_type": "execute_result"
    }
   ],
   "source": [
    "predictions[:5]"
   ]
  },
  {
   "cell_type": "markdown",
   "id": "e6f3bb94-9e49-4b3c-b83c-25e4628ac338",
   "metadata": {},
   "source": [
    "## RMSE and MAE measurement"
   ]
  },
  {
   "cell_type": "code",
   "execution_count": 23,
   "id": "a8417099-ea4b-42b4-a97d-53234fc86b64",
   "metadata": {},
   "outputs": [
    {
     "name": "stdout",
     "output_type": "stream",
     "text": [
      "\n",
      "Evaluating accuracy of model...\n",
      "RMSE:  0.9033701087151801\n",
      "MAE:  0.6977882196132263\n"
     ]
    }
   ],
   "source": [
    "print(\"\\nEvaluating accuracy of model...\")\n",
    "print(\"RMSE: \", RecommenderMetrics.RMSE(predictions))\n",
    "print(\"MAE: \", RecommenderMetrics.MAE(predictions))"
   ]
  },
  {
   "cell_type": "markdown",
   "id": "aba117a0-f44e-44f3-9a7e-74b74dba9294",
   "metadata": {},
   "source": [
    "## evaluate top-N recommendations"
   ]
  },
  {
   "cell_type": "code",
   "execution_count": 24,
   "id": "f3dcd4b1-06cc-47e8-ad47-f41de9c64792",
   "metadata": {},
   "outputs": [
    {
     "name": "stdout",
     "output_type": "stream",
     "text": [
      "Computing recommendations with leave-one-out...\n",
      "Predict ratings for left-out set...\n",
      "Predict all missing ratings...\n",
      "Compute top 10 recs per user...\n",
      "\n",
      "Hit Rate:  0.029806259314456036\n",
      "\n",
      "rHR (Hit Rate by Rating value): \n",
      "3.5 0.017241379310344827\n",
      "4.0 0.0425531914893617\n",
      "4.5 0.020833333333333332\n",
      "5.0 0.06802721088435375\n",
      "\n",
      "cHR (Cumulative Hit Rate, rating >= 4):  0.04960835509138381\n",
      "\n",
      "ARHR (Average Reciprocal Hit Rank):  0.0111560570576964\n"
     ]
    }
   ],
   "source": [
    "# Set aside one rating item per user for testing\n",
    "LOOCV = LeaveOneOut(n_splits=1, random_state=1)\n",
    "\n",
    "for trainSet, testSet in LOOCV.split(data):\n",
    "    print(\"Computing recommendations with leave-one-out...\")\n",
    "\n",
    "    # Train model without left-out ratings\n",
    "    algo.fit(trainSet)\n",
    "\n",
    "    # Predicts ratings for left-out ratings only\n",
    "    print(\"Predict ratings for left-out set...\")\n",
    "    leftOutPredictions = algo.test(testSet)\n",
    "\n",
    "    # Build predictions for all items not in the training set\n",
    "    print(\"Predict all missing ratings...\")\n",
    "    bigTestSet = trainSet.build_anti_testset()\n",
    "    allPredictions = algo.test(bigTestSet)\n",
    "\n",
    "    # Compute top 10 recs for each user\n",
    "    print(\"Compute top 10 recs per user...\")\n",
    "    topNPredicted = RecommenderMetrics.GetTopN(allPredictions, n=10)\n",
    "\n",
    "    # See how often we recommended a movie the user actually rated\n",
    "    print(\"\\nHit Rate: \", RecommenderMetrics.HitRate(topNPredicted, leftOutPredictions))\n",
    "\n",
    "    # Break down hit rate by rating value\n",
    "    print(\"\\nrHR (Hit Rate by Rating value): \")\n",
    "    RecommenderMetrics.RatingHitRate(topNPredicted, leftOutPredictions)\n",
    "\n",
    "    # See how often we recommended a movie the user actually liked\n",
    "    print(\"\\ncHR (Cumulative Hit Rate, rating >= 4): \", RecommenderMetrics.CumulativeHitRate(topNPredicted, leftOutPredictions, 4.0))\n",
    "\n",
    "    # Compute ARHR\n",
    "    print(\"\\nARHR (Average Reciprocal Hit Rank): \", RecommenderMetrics.AverageReciprocalHitRank(topNPredicted, leftOutPredictions))"
   ]
  },
  {
   "cell_type": "markdown",
   "id": "bb6d3652-eef6-479c-8d17-4abd3d779cd1",
   "metadata": {},
   "source": [
    "## compute complete recommendations without hold-out set"
   ]
  },
  {
   "cell_type": "code",
   "execution_count": 25,
   "id": "8e665a30-d782-4c43-ab1e-710b2e56fbfa",
   "metadata": {},
   "outputs": [
    {
     "name": "stdout",
     "output_type": "stream",
     "text": [
      "\n",
      "Computing complete recommendations, no hold outs...\n"
     ]
    }
   ],
   "source": [
    "print(\"\\nComputing complete recommendations, no hold outs...\")\n",
    "algo.fit(fullTrainSet)\n",
    "\n",
    "bigTestSet = fullTrainSet.build_anti_testset()\n",
    "allPredictions = algo.test(bigTestSet)\n",
    "\n",
    "topNPredicted = RecommenderMetrics.GetTopN(allPredictions, n=10)"
   ]
  },
  {
   "cell_type": "code",
   "execution_count": 27,
   "id": "61c109db-bf08-4365-b4ff-4370e45b50b1",
   "metadata": {},
   "outputs": [
    {
     "data": {
      "text/plain": [
       "collections.defaultdict"
      ]
     },
     "execution_count": 27,
     "metadata": {},
     "output_type": "execute_result"
    }
   ],
   "source": [
    "type(topNPredicted)"
   ]
  },
  {
   "cell_type": "code",
   "execution_count": 28,
   "id": "ed0ef9cd-ac08-43e0-8f58-b00329482807",
   "metadata": {},
   "outputs": [
    {
     "data": {
      "text/plain": [
       "dict_keys([2, 3, 4, 5, 6, 7, 8, 9, 10, 11, 13, 14, 15, 16, 17, 18, 19, 20, 21, 22, 23, 24, 25, 26, 27, 28, 29, 30, 31, 32, 33, 34, 36, 37, 38, 39, 40, 41, 42, 43, 44, 45, 46, 47, 48, 49, 50, 51, 52, 54, 55, 56, 57, 58, 60, 61, 62, 63, 64, 65, 66, 67, 68, 69, 70, 71, 73, 74, 75, 76, 77, 78, 80, 81, 82, 83, 84, 85, 86, 87, 88, 89, 90, 91, 92, 93, 94, 95, 96, 97, 98, 99, 100, 101, 102, 103, 104, 105, 106, 107, 108, 109, 110, 111, 112, 113, 114, 115, 116, 117, 118, 119, 120, 121, 122, 123, 124, 125, 126, 127, 128, 129, 130, 131, 132, 134, 135, 136, 137, 138, 139, 140, 141, 142, 143, 144, 145, 146, 147, 148, 149, 150, 151, 152, 153, 154, 155, 156, 157, 158, 159, 160, 161, 162, 163, 164, 165, 166, 167, 168, 169, 171, 172, 173, 174, 175, 176, 177, 178, 179, 180, 181, 182, 183, 184, 185, 186, 187, 188, 189, 190, 191, 192, 193, 194, 196, 197, 198, 199, 200, 201, 202, 203, 204, 205, 206, 208, 209, 210, 211, 212, 214, 215, 216, 217, 218, 219, 220, 221, 222, 223, 224, 225, 226, 227, 228, 229, 230, 231, 232, 233, 234, 235, 236, 237, 238, 239, 240, 241, 242, 243, 244, 245, 246, 247, 248, 249, 250, 251, 252, 253, 254, 255, 256, 257, 258, 259, 260, 261, 262, 263, 264, 265, 266, 267, 268, 269, 270, 271, 272, 273, 274, 275, 276, 277, 278, 279, 280, 281, 282, 283, 284, 285, 286, 287, 288, 289, 290, 291, 292, 293, 294, 295, 296, 297, 298, 299, 300, 301, 302, 303, 304, 306, 307, 308, 309, 310, 311, 312, 313, 314, 316, 317, 318, 319, 320, 321, 322, 323, 324, 326, 327, 328, 329, 330, 331, 332, 333, 334, 335, 336, 337, 338, 339, 340, 341, 342, 343, 344, 345, 346, 347, 348, 349, 350, 351, 352, 354, 355, 356, 357, 358, 359, 360, 361, 362, 363, 364, 365, 366, 367, 368, 369, 370, 371, 372, 373, 374, 375, 376, 377, 378, 379, 380, 381, 382, 383, 384, 385, 387, 388, 389, 390, 391, 392, 393, 394, 395, 396, 397, 398, 399, 400, 401, 402, 403, 404, 405, 406, 407, 408, 409, 410, 411, 412, 413, 414, 415, 416, 417, 418, 419, 420, 421, 422, 423, 424, 425, 426, 427, 428, 430, 431, 432, 433, 434, 435, 436, 437, 438, 439, 440, 441, 442, 443, 444, 445, 446, 447, 448, 449, 450, 451, 452, 453, 454, 455, 456, 458, 459, 460, 461, 462, 463, 464, 465, 466, 467, 469, 470, 471, 472, 473, 474, 475, 476, 477, 478, 479, 480, 481, 482, 483, 484, 485, 486, 487, 488, 489, 490, 491, 492, 493, 494, 495, 496, 497, 498, 499, 500, 501, 502, 503, 504, 506, 507, 508, 509, 510, 511, 512, 513, 514, 515, 516, 517, 518, 519, 520, 521, 522, 523, 524, 525, 526, 527, 528, 529, 530, 532, 533, 534, 535, 536, 537, 538, 539, 540, 541, 542, 543, 544, 545, 546, 547, 548, 549, 550, 551, 553, 554, 556, 557, 558, 559, 560, 561, 562, 563, 564, 565, 566, 567, 568, 569, 570, 571, 572, 573, 574, 575, 576, 577, 580, 582, 583, 584, 585, 586, 587, 588, 589, 590, 591, 592, 593, 594, 595, 596, 597, 598, 599, 600, 601, 602, 603, 604, 605, 606, 607, 608, 610, 611, 612, 613, 614, 615, 616, 617, 618, 619, 620, 621, 622, 623, 625, 626, 627, 629, 630, 631, 632, 633, 634, 635, 636, 637, 638, 639, 640, 641, 642, 643, 644, 645, 646, 647, 648, 649, 650, 651, 652, 653, 654, 655, 656, 657, 658, 659, 660, 661, 662, 663, 664, 665, 666, 667, 668, 669, 670, 671])"
      ]
     },
     "execution_count": 28,
     "metadata": {},
     "output_type": "execute_result"
    }
   ],
   "source": [
    "topNPredicted.keys()"
   ]
  },
  {
   "cell_type": "code",
   "execution_count": 31,
   "id": "f6f3bbd3-e5cf-41d1-8c1a-4d48a9b7c04a",
   "metadata": {},
   "outputs": [
    {
     "name": "stdout",
     "output_type": "stream",
     "text": [
      "[(750, 4.35280339944793), (7502, 4.352442956492622), (926, 4.342936228026204), (1945, 4.338353198673341), (1035, 4.3211799931232795), (194, 4.316813430150751), (905, 4.3089507079940725), (968, 4.294282510828192), (3462, 4.286268842687708), (1089, 4.281743479404668)]\n",
      "[(926, 4.4149856280480275), (3462, 4.364463968021669), (1136, 4.324506591977236), (50, 4.230061037677276), (7502, 4.229965552561011), (899, 4.220991684692096), (2064, 4.19789633024895), (905, 4.179668227514134), (741, 4.1671423380333525), (1147, 4.151154032890661)]\n",
      "[(50, 5), (318, 5), (1221, 5), (111, 5), (534, 5), (4973, 5), (608, 5), (1060, 5), (1147, 5), (1203, 5)]\n"
     ]
    }
   ],
   "source": [
    "for i in [2, 3, 4]:\n",
    "    print(topNPredicted[i])"
   ]
  },
  {
   "cell_type": "code",
   "execution_count": 32,
   "id": "ea481e3c-e82a-469d-a71f-0430232ae1d0",
   "metadata": {},
   "outputs": [
    {
     "name": "stdout",
     "output_type": "stream",
     "text": [
      "\n",
      "User coverage:  0.9552906110283159\n",
      "Computing the pearson_baseline similarity matrix...\n",
      "Done computing similarity matrix.\n",
      "\n",
      "Diversity:  0.9665208258150911\n",
      "\n",
      "Novelty (average popularity rank):  491.5767777960256\n"
     ]
    }
   ],
   "source": [
    "# Print user coverage with a minimum predicted rating of 4.0:\n",
    "print(\"\\nUser coverage: \", RecommenderMetrics.UserCoverage(topNPredicted, fullTrainSet.n_users, ratingThreshold=4.0))\n",
    "\n",
    "# Measure diversity of recommendations:\n",
    "print(\"\\nDiversity: \", RecommenderMetrics.Diversity(topNPredicted, simsAlgo))\n",
    "\n",
    "# Measure novelty (average popularity rank of recommendations):\n",
    "print(\"\\nNovelty (average popularity rank): \", RecommenderMetrics.Novelty(topNPredicted, rankings))"
   ]
  }
 ],
 "metadata": {
  "kernelspec": {
   "display_name": "Python 3 (ipykernel)",
   "language": "python",
   "name": "python3"
  },
  "language_info": {
   "codemirror_mode": {
    "name": "ipython",
    "version": 3
   },
   "file_extension": ".py",
   "mimetype": "text/x-python",
   "name": "python",
   "nbconvert_exporter": "python",
   "pygments_lexer": "ipython3",
   "version": "3.7.9"
  }
 },
 "nbformat": 4,
 "nbformat_minor": 5
}
