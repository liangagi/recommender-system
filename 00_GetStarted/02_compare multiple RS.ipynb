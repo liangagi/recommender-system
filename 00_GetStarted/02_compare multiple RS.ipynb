{
 "cells": [
  {
   "cell_type": "markdown",
   "id": "ab1ca98b-ae58-44a7-8999-d53a2f70539f",
   "metadata": {},
   "source": [
    "# Evaluate multiple RS together"
   ]
  },
  {
   "cell_type": "markdown",
   "id": "269b6fd4-f43a-48e0-8d30-c20fa58e789c",
   "metadata": {},
   "source": [
    "## load package"
   ]
  },
  {
   "cell_type": "code",
   "execution_count": 3,
   "id": "a440587d-99fd-4fbe-b432-d86127478c50",
   "metadata": {},
   "outputs": [],
   "source": [
    "import random\n",
    "import numpy as np\n",
    "\n",
    "from surprise import SVD, NormalPredictor\n",
    "\n",
    "## put utils folder in the same directory as the notebook\n",
    "from utils.MovieLens import MovieLens\n",
    "from utils.Evaluator import Evaluator"
   ]
  },
  {
   "cell_type": "markdown",
   "id": "7dc5cfa8-f5a5-40a9-8e95-28bf24c4e50c",
   "metadata": {},
   "source": [
    "## utils function"
   ]
  },
  {
   "cell_type": "code",
   "execution_count": 4,
   "id": "c4c8398e-13e1-4686-b9a9-44b72ee72f60",
   "metadata": {},
   "outputs": [],
   "source": [
    "def LoadMovieLensData():\n",
    "    ml = MovieLens()\n",
    "    print(\"Loading movie ratings...\")\n",
    "    data = ml.loadMovieLensLatestSmall()\n",
    "    print(\"\\nComputing movie popularity ranks so we can measure novelty later...\")\n",
    "    rankings = ml.getPopularityRanks()\n",
    "    return (data, rankings)"
   ]
  },
  {
   "cell_type": "code",
   "execution_count": 5,
   "id": "c3fc4def-7fcb-4736-9760-31b43dfc40e1",
   "metadata": {},
   "outputs": [],
   "source": [
    "np.random.seed(0)\n",
    "random.seed(0)"
   ]
  },
  {
   "cell_type": "markdown",
   "id": "aad236ba-2724-4462-bf38-e17419419ac8",
   "metadata": {},
   "source": [
    "## read data"
   ]
  },
  {
   "cell_type": "code",
   "execution_count": 6,
   "id": "3c2dfff8-b244-4f0a-b254-eb8eac03a6f0",
   "metadata": {},
   "outputs": [
    {
     "name": "stdout",
     "output_type": "stream",
     "text": [
      "Loading movie ratings...\n",
      "\n",
      "Computing movie popularity ranks so we can measure novelty later...\n"
     ]
    }
   ],
   "source": [
    "# Load up common data set for the recommender algorithms\n",
    "(evaluationData, rankings) = LoadMovieLensData()"
   ]
  },
  {
   "cell_type": "code",
   "execution_count": 7,
   "id": "3da94838-aac5-4bdf-a182-17d8c6a497c2",
   "metadata": {},
   "outputs": [
    {
     "data": {
      "text/plain": [
       "surprise.dataset.DatasetAutoFolds"
      ]
     },
     "execution_count": 7,
     "metadata": {},
     "output_type": "execute_result"
    }
   ],
   "source": [
    "type(evaluationData)"
   ]
  },
  {
   "cell_type": "code",
   "execution_count": 8,
   "id": "98786ca3-17d7-4962-8e7b-94d67e98682c",
   "metadata": {},
   "outputs": [
    {
     "data": {
      "text/plain": [
       "collections.defaultdict"
      ]
     },
     "execution_count": 8,
     "metadata": {},
     "output_type": "execute_result"
    }
   ],
   "source": [
    "type(rankings)"
   ]
  },
  {
   "cell_type": "markdown",
   "id": "45d215f4-ddab-49d2-95b5-21898d5c740b",
   "metadata": {},
   "source": [
    "## Construct Evaluator and compare multiple algorithms"
   ]
  },
  {
   "cell_type": "code",
   "execution_count": 9,
   "id": "986ac996-200a-4460-ba45-f67584070f0d",
   "metadata": {},
   "outputs": [
    {
     "name": "stdout",
     "output_type": "stream",
     "text": [
      "Estimating biases using als...\n",
      "Computing the cosine similarity matrix...\n",
      "Done computing similarity matrix.\n"
     ]
    }
   ],
   "source": [
    "# Construct an Evaluator to, you know, evaluate them\n",
    "evaluator = Evaluator(evaluationData, rankings)"
   ]
  },
  {
   "cell_type": "code",
   "execution_count": 10,
   "id": "d48043e0-37c0-4f56-a868-cb8708d20f8d",
   "metadata": {},
   "outputs": [
    {
     "data": {
      "text/plain": [
       "utils.Evaluator.Evaluator"
      ]
     },
     "execution_count": 10,
     "metadata": {},
     "output_type": "execute_result"
    }
   ],
   "source": [
    "type(evaluator)"
   ]
  },
  {
   "cell_type": "code",
   "execution_count": 11,
   "id": "4586acae-f9a9-4616-9df9-0c6cc6b0d09a",
   "metadata": {},
   "outputs": [],
   "source": [
    "# Throw in an SVD recommender\n",
    "SVDAlgorithm = SVD(random_state=10)\n",
    "evaluator.AddAlgorithm(SVDAlgorithm, \"SVD\")"
   ]
  },
  {
   "cell_type": "code",
   "execution_count": 12,
   "id": "e3d3c976-ef60-4b7b-b680-f1d31b5c8ddc",
   "metadata": {},
   "outputs": [],
   "source": [
    "# Just make random recommendations\n",
    "Random = NormalPredictor()\n",
    "evaluator.AddAlgorithm(Random, \"Random\")"
   ]
  },
  {
   "cell_type": "code",
   "execution_count": 13,
   "id": "498af34c-89be-4b99-b3f9-391c62a7714e",
   "metadata": {},
   "outputs": [
    {
     "name": "stdout",
     "output_type": "stream",
     "text": [
      "Evaluating  SVD ...\n",
      "Evaluating accuracy...\n",
      "Evaluating top-N with leave-one-out...\n",
      "Computing hit-rate and rank metrics...\n",
      "Computing recommendations with full data set...\n",
      "Analyzing coverage, diversity, and novelty...\n",
      "Computing the cosine similarity matrix...\n",
      "Done computing similarity matrix.\n",
      "Analysis complete.\n",
      "Evaluating  Random ...\n",
      "Evaluating accuracy...\n",
      "Evaluating top-N with leave-one-out...\n",
      "Computing hit-rate and rank metrics...\n",
      "Computing recommendations with full data set...\n",
      "Analyzing coverage, diversity, and novelty...\n",
      "Computing the cosine similarity matrix...\n",
      "Done computing similarity matrix.\n",
      "Analysis complete.\n",
      "\n",
      "\n",
      "Algorithm  RMSE       MAE        HR         cHR        ARHR       Coverage   Diversity  Novelty   \n",
      "SVD        0.9034     0.6978     0.0298     0.0298     0.0112     0.9553     0.0445     491.5768  \n",
      "Random     1.4385     1.1478     0.0089     0.0089     0.0015     1.0000     0.0719     557.8365  \n",
      "\n",
      "Legend:\n",
      "\n",
      "RMSE:      Root Mean Squared Error. Lower values mean better accuracy.\n",
      "MAE:       Mean Absolute Error. Lower values mean better accuracy.\n",
      "HR:        Hit Rate; how often we are able to recommend a left-out rating. Higher is better.\n",
      "cHR:       Cumulative Hit Rate; hit rate, confined to ratings above a certain threshold. Higher is better.\n",
      "ARHR:      Average Reciprocal Hit Rank - Hit rate that takes the ranking into account. Higher is better.\n",
      "Coverage:  Ratio of users for whom recommendations above a certain threshold exist. Higher is better.\n",
      "Diversity: 1-S, where S is the average similarity score between every possible pair of recommendations\n",
      "           for a given user. Higher means more diverse.\n",
      "Novelty:   Average popularity rank of recommended items. Higher means more novel.\n"
     ]
    }
   ],
   "source": [
    "# Fight!\n",
    "evaluator.Evaluate(True)"
   ]
  }
 ],
 "metadata": {
  "kernelspec": {
   "display_name": "Python 3 (ipykernel)",
   "language": "python",
   "name": "python3"
  },
  "language_info": {
   "codemirror_mode": {
    "name": "ipython",
    "version": 3
   },
   "file_extension": ".py",
   "mimetype": "text/x-python",
   "name": "python",
   "nbconvert_exporter": "python",
   "pygments_lexer": "ipython3",
   "version": "3.7.9"
  }
 },
 "nbformat": 4,
 "nbformat_minor": 5
}
