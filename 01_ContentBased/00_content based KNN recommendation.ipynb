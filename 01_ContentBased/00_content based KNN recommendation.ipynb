{
 "cells": [
  {
   "cell_type": "markdown",
   "id": "6897d08b-b351-4e9b-95e3-b87041e035d3",
   "metadata": {},
   "source": [
    "# Content based KNN recommendation"
   ]
  },
  {
   "cell_type": "markdown",
   "id": "aeafee89-132b-42d9-b59d-861dfd0daec3",
   "metadata": {},
   "source": [
    "## load package"
   ]
  },
  {
   "cell_type": "code",
   "execution_count": 1,
   "id": "1bf13244-b1b2-409e-80c3-683bc91ed2ed",
   "metadata": {},
   "outputs": [],
   "source": [
    "import random\n",
    "import numpy as np\n",
    "\n",
    "from surprise import NormalPredictor\n",
    "\n",
    "from utils.MovieLens import MovieLens\n",
    "from utils.Evaluator import Evaluator\n",
    "from utils.ContentKNNAlgorithm import ContentKNNAlgorithm"
   ]
  },
  {
   "cell_type": "markdown",
   "id": "e0eb784a-136c-4675-8d39-886e3fb0c25c",
   "metadata": {},
   "source": [
    "## utils function"
   ]
  },
  {
   "cell_type": "code",
   "execution_count": 2,
   "id": "8333d382-2dc0-4e45-b572-048725a715b3",
   "metadata": {},
   "outputs": [],
   "source": [
    "def LoadMovieLensData():\n",
    "    ml = MovieLens()\n",
    "    print(\"Loading movie ratings...\")\n",
    "    data = ml.loadMovieLensLatestSmall()\n",
    "    print(\"\\nComputing movie popularity ranks so we can measure novelty later...\")\n",
    "    rankings = ml.getPopularityRanks()\n",
    "    return (ml, data, rankings)"
   ]
  },
  {
   "cell_type": "code",
   "execution_count": null,
   "id": "a37dfbcc-9810-421a-b714-b96b78a7ed58",
   "metadata": {},
   "outputs": [],
   "source": [
    "np.random.seed(0)\n",
    "random.seed(0)"
   ]
  },
  {
   "cell_type": "markdown",
   "id": "35e0f4f7-e13b-4259-bbee-58ae7460cc43",
   "metadata": {},
   "source": [
    "## read data"
   ]
  },
  {
   "cell_type": "code",
   "execution_count": 3,
   "id": "f7d01344-0992-4cf4-bfcf-531567b25de6",
   "metadata": {},
   "outputs": [
    {
     "name": "stdout",
     "output_type": "stream",
     "text": [
      "Loading movie ratings...\n",
      "\n",
      "Computing movie popularity ranks so we can measure novelty later...\n",
      "Estimating biases using als...\n",
      "Computing the cosine similarity matrix...\n",
      "Done computing similarity matrix.\n"
     ]
    }
   ],
   "source": [
    "# Load up common data set for the recommender algorithms\n",
    "(ml, evaluationData, rankings) = LoadMovieLensData()\n",
    "\n",
    "# Construct an Evaluator to, you know, evaluate them\n",
    "evaluator = Evaluator(evaluationData, rankings)"
   ]
  },
  {
   "cell_type": "markdown",
   "id": "21095bbd-653c-4242-a73f-3e9a6d652889",
   "metadata": {},
   "source": [
    "## Content based KNN"
   ]
  },
  {
   "cell_type": "code",
   "execution_count": 4,
   "id": "cb63d1f4-56e8-47a2-b677-de7820755253",
   "metadata": {},
   "outputs": [],
   "source": [
    "contentKNN = ContentKNNAlgorithm()\n",
    "evaluator.AddAlgorithm(contentKNN, \"ContentKNN\")"
   ]
  },
  {
   "cell_type": "code",
   "execution_count": 5,
   "id": "dca63573-0c56-424e-acf9-514605af1d2f",
   "metadata": {},
   "outputs": [],
   "source": [
    "# Just make random recommendations\n",
    "Random = NormalPredictor()\n",
    "evaluator.AddAlgorithm(Random, \"Random\")"
   ]
  },
  {
   "cell_type": "code",
   "execution_count": 6,
   "id": "ee7d6f28-c5f6-4675-bde8-550fd231ef37",
   "metadata": {},
   "outputs": [
    {
     "name": "stdout",
     "output_type": "stream",
     "text": [
      "Evaluating  ContentKNN ...\n",
      "Evaluating accuracy...\n",
      "Computing content-based similarity matrix...\n",
      "0  of  8211\n",
      "100  of  8211\n",
      "200  of  8211\n",
      "300  of  8211\n",
      "400  of  8211\n",
      "500  of  8211\n",
      "600  of  8211\n",
      "700  of  8211\n",
      "800  of  8211\n",
      "900  of  8211\n",
      "1000  of  8211\n",
      "1100  of  8211\n",
      "1200  of  8211\n",
      "1300  of  8211\n",
      "1400  of  8211\n",
      "1500  of  8211\n",
      "1600  of  8211\n",
      "1700  of  8211\n",
      "1800  of  8211\n",
      "1900  of  8211\n",
      "2000  of  8211\n",
      "2100  of  8211\n",
      "2200  of  8211\n",
      "2300  of  8211\n",
      "2400  of  8211\n",
      "2500  of  8211\n",
      "2600  of  8211\n",
      "2700  of  8211\n",
      "2800  of  8211\n",
      "2900  of  8211\n",
      "3000  of  8211\n",
      "3100  of  8211\n",
      "3200  of  8211\n",
      "3300  of  8211\n",
      "3400  of  8211\n",
      "3500  of  8211\n",
      "3600  of  8211\n",
      "3700  of  8211\n",
      "3800  of  8211\n",
      "3900  of  8211\n",
      "4000  of  8211\n",
      "4100  of  8211\n",
      "4200  of  8211\n",
      "4300  of  8211\n",
      "4400  of  8211\n",
      "4500  of  8211\n",
      "4600  of  8211\n",
      "4700  of  8211\n",
      "4800  of  8211\n",
      "4900  of  8211\n",
      "5000  of  8211\n",
      "5100  of  8211\n",
      "5200  of  8211\n",
      "5300  of  8211\n",
      "5400  of  8211\n",
      "5500  of  8211\n",
      "5600  of  8211\n",
      "5700  of  8211\n",
      "5800  of  8211\n",
      "5900  of  8211\n",
      "6000  of  8211\n",
      "6100  of  8211\n",
      "6200  of  8211\n",
      "6300  of  8211\n",
      "6400  of  8211\n",
      "6500  of  8211\n",
      "6600  of  8211\n",
      "6700  of  8211\n",
      "6800  of  8211\n",
      "6900  of  8211\n",
      "7000  of  8211\n",
      "7100  of  8211\n",
      "7200  of  8211\n",
      "7300  of  8211\n",
      "7400  of  8211\n",
      "7500  of  8211\n",
      "7600  of  8211\n",
      "7700  of  8211\n",
      "7800  of  8211\n",
      "7900  of  8211\n",
      "8000  of  8211\n",
      "8100  of  8211\n",
      "8200  of  8211\n",
      "...done.\n",
      "Analysis complete.\n",
      "Evaluating  Random ...\n",
      "Evaluating accuracy...\n",
      "Analysis complete.\n",
      "\n",
      "\n",
      "Algorithm  RMSE       MAE       \n",
      "ContentKNN 0.9375     0.7263    \n",
      "Random     1.4385     1.1478    \n",
      "\n",
      "Legend:\n",
      "\n",
      "RMSE:      Root Mean Squared Error. Lower values mean better accuracy.\n",
      "MAE:       Mean Absolute Error. Lower values mean better accuracy.\n"
     ]
    }
   ],
   "source": [
    "evaluator.Evaluate(False)"
   ]
  },
  {
   "cell_type": "markdown",
   "id": "b279630d-bedd-4d23-98de-7d47a3f50d03",
   "metadata": {},
   "source": [
    "## take samples to evaluate top-N recommendations "
   ]
  },
  {
   "cell_type": "code",
   "execution_count": 7,
   "id": "5cb771c3-f0a6-4217-9334-f5243e47305e",
   "metadata": {},
   "outputs": [
    {
     "name": "stdout",
     "output_type": "stream",
     "text": [
      "\n",
      "Using recommender  ContentKNN\n",
      "\n",
      "Building recommendation model...\n",
      "Computing content-based similarity matrix...\n",
      "0  of  9066\n",
      "100  of  9066\n",
      "200  of  9066\n",
      "300  of  9066\n",
      "400  of  9066\n",
      "500  of  9066\n",
      "600  of  9066\n",
      "700  of  9066\n",
      "800  of  9066\n",
      "900  of  9066\n",
      "1000  of  9066\n",
      "1100  of  9066\n",
      "1200  of  9066\n",
      "1300  of  9066\n",
      "1400  of  9066\n",
      "1500  of  9066\n",
      "1600  of  9066\n",
      "1700  of  9066\n",
      "1800  of  9066\n",
      "1900  of  9066\n",
      "2000  of  9066\n",
      "2100  of  9066\n",
      "2200  of  9066\n",
      "2300  of  9066\n",
      "2400  of  9066\n",
      "2500  of  9066\n",
      "2600  of  9066\n",
      "2700  of  9066\n",
      "2800  of  9066\n",
      "2900  of  9066\n",
      "3000  of  9066\n",
      "3100  of  9066\n",
      "3200  of  9066\n",
      "3300  of  9066\n",
      "3400  of  9066\n",
      "3500  of  9066\n",
      "3600  of  9066\n",
      "3700  of  9066\n",
      "3800  of  9066\n",
      "3900  of  9066\n",
      "4000  of  9066\n",
      "4100  of  9066\n",
      "4200  of  9066\n",
      "4300  of  9066\n",
      "4400  of  9066\n",
      "4500  of  9066\n",
      "4600  of  9066\n",
      "4700  of  9066\n",
      "4800  of  9066\n",
      "4900  of  9066\n",
      "5000  of  9066\n",
      "5100  of  9066\n",
      "5200  of  9066\n",
      "5300  of  9066\n",
      "5400  of  9066\n",
      "5500  of  9066\n",
      "5600  of  9066\n",
      "5700  of  9066\n",
      "5800  of  9066\n",
      "5900  of  9066\n",
      "6000  of  9066\n",
      "6100  of  9066\n",
      "6200  of  9066\n",
      "6300  of  9066\n",
      "6400  of  9066\n",
      "6500  of  9066\n",
      "6600  of  9066\n",
      "6700  of  9066\n",
      "6800  of  9066\n",
      "6900  of  9066\n",
      "7000  of  9066\n",
      "7100  of  9066\n",
      "7200  of  9066\n",
      "7300  of  9066\n",
      "7400  of  9066\n",
      "7500  of  9066\n",
      "7600  of  9066\n",
      "7700  of  9066\n",
      "7800  of  9066\n",
      "7900  of  9066\n",
      "8000  of  9066\n",
      "8100  of  9066\n",
      "8200  of  9066\n",
      "8300  of  9066\n",
      "8400  of  9066\n",
      "8500  of  9066\n",
      "8600  of  9066\n",
      "8700  of  9066\n",
      "8800  of  9066\n",
      "8900  of  9066\n",
      "9000  of  9066\n",
      "...done.\n",
      "Computing recommendations...\n",
      "\n",
      "We recommend:\n",
      "Presidio, The (1988) 3.841314676872932\n",
      "Femme Nikita, La (Nikita) (1990) 3.839613347087336\n",
      "Wyatt Earp (1994) 3.8125061475551796\n",
      "Shooter, The (1997) 3.8125061475551796\n",
      "Bad Girls (1994) 3.8125061475551796\n",
      "The Hateful Eight (2015) 3.812506147555179\n",
      "True Grit (2010) 3.812506147555179\n",
      "Open Range (2003) 3.812506147555179\n",
      "Big Easy, The (1987) 3.7835412549266985\n",
      "Point Break (1991) 3.764158410102279\n",
      "\n",
      "Using recommender  Random\n",
      "\n",
      "Building recommendation model...\n",
      "Computing recommendations...\n",
      "\n",
      "We recommend:\n",
      "Sleepers (1996) 5\n",
      "Beavis and Butt-Head Do America (1996) 5\n",
      "Fear and Loathing in Las Vegas (1998) 5\n",
      "Happiness (1998) 5\n",
      "Summer of Sam (1999) 5\n",
      "Bowling for Columbine (2002) 5\n",
      "Babe (1995) 5\n",
      "Birdcage, The (1996) 5\n",
      "Carlito's Way (1993) 5\n",
      "Wizard of Oz, The (1939) 5\n"
     ]
    }
   ],
   "source": [
    "evaluator.SampleTopNRecs(ml)"
   ]
  }
 ],
 "metadata": {
  "kernelspec": {
   "display_name": "Python 3 (ipykernel)",
   "language": "python",
   "name": "python3"
  },
  "language_info": {
   "codemirror_mode": {
    "name": "ipython",
    "version": 3
   },
   "file_extension": ".py",
   "mimetype": "text/x-python",
   "name": "python",
   "nbconvert_exporter": "python",
   "pygments_lexer": "ipython3",
   "version": "3.7.9"
  }
 },
 "nbformat": 4,
 "nbformat_minor": 5
}
