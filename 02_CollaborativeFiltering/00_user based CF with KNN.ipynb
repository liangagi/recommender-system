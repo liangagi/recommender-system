{
 "cells": [
  {
   "cell_type": "markdown",
   "id": "42eaef83-7fbf-40b0-bef9-34c05ec42039",
   "metadata": {},
   "source": [
    "# User based collaborative filtering with KNN"
   ]
  },
  {
   "cell_type": "markdown",
   "id": "1efc435d-db47-481b-94c3-2b32855dc2aa",
   "metadata": {},
   "source": [
    "## load package"
   ]
  },
  {
   "cell_type": "code",
   "execution_count": 1,
   "id": "a294be7a-be88-4956-9a91-0a5a69000c5c",
   "metadata": {},
   "outputs": [],
   "source": [
    "import heapq\n",
    "from collections import defaultdict\n",
    "from operator import itemgetter\n",
    "\n",
    "from surprise import KNNBasic\n",
    "\n",
    "from utils.MovieLens import MovieLens"
   ]
  },
  {
   "cell_type": "markdown",
   "id": "230ace2e-ec9d-4b65-be68-86db3e94f693",
   "metadata": {},
   "source": [
    "## read data"
   ]
  },
  {
   "cell_type": "code",
   "execution_count": 2,
   "id": "4cda3dcd-c603-40cf-a083-2118b518ddba",
   "metadata": {},
   "outputs": [],
   "source": [
    "testSubject = '85'\n",
    "k = 10\n",
    "\n",
    "# Load our data set and compute the user similarity matrix\n",
    "ml = MovieLens()\n",
    "data = ml.loadMovieLensLatestSmall()\n",
    "\n",
    "trainSet = data.build_full_trainset()"
   ]
  },
  {
   "cell_type": "code",
   "execution_count": 3,
   "id": "227d1e91-00f5-46cb-99d9-67667abac5eb",
   "metadata": {},
   "outputs": [
    {
     "data": {
      "text/plain": [
       "surprise.trainset.Trainset"
      ]
     },
     "execution_count": 3,
     "metadata": {},
     "output_type": "execute_result"
    }
   ],
   "source": [
    "type(trainSet)"
   ]
  },
  {
   "cell_type": "markdown",
   "id": "1dd2d3b3-3400-4e4e-9686-4b287f1d532c",
   "metadata": {},
   "source": [
    "## user based collaborative filtering with KNN"
   ]
  },
  {
   "cell_type": "code",
   "execution_count": 7,
   "id": "b6df6a11-8fa1-4d17-b165-77c912e94827",
   "metadata": {},
   "outputs": [
    {
     "name": "stdout",
     "output_type": "stream",
     "text": [
      "Computing the cosine similarity matrix...\n",
      "Done computing similarity matrix.\n"
     ]
    },
    {
     "data": {
      "text/plain": [
       "<surprise.prediction_algorithms.knns.KNNBasic at 0x7fc74ec05f10>"
      ]
     },
     "execution_count": 7,
     "metadata": {},
     "output_type": "execute_result"
    }
   ],
   "source": [
    "sim_options = {'name': 'cosine',\n",
    "               'user_based': True\n",
    "               }\n",
    "\n",
    "model = KNNBasic(sim_options=sim_options)\n",
    "model.fit(trainSet)"
   ]
  },
  {
   "cell_type": "code",
   "execution_count": 8,
   "id": "63e1b33d-5116-40e4-863b-50905de7d14e",
   "metadata": {},
   "outputs": [
    {
     "name": "stdout",
     "output_type": "stream",
     "text": [
      "Computing the cosine similarity matrix...\n",
      "Done computing similarity matrix.\n"
     ]
    }
   ],
   "source": [
    "# user - user similarity\n",
    "simsMatrix = model.compute_similarities()"
   ]
  },
  {
   "cell_type": "code",
   "execution_count": 9,
   "id": "f49aa05f-ed3f-478d-bb5f-ae3931969263",
   "metadata": {},
   "outputs": [
    {
     "data": {
      "text/plain": [
       "numpy.ndarray"
      ]
     },
     "execution_count": 9,
     "metadata": {},
     "output_type": "execute_result"
    }
   ],
   "source": [
    "type(simsMatrix)"
   ]
  },
  {
   "cell_type": "code",
   "execution_count": 14,
   "id": "ad127cc7-0e44-4f0b-beaf-da335afce496",
   "metadata": {},
   "outputs": [
    {
     "data": {
      "text/plain": [
       "(671, 671)"
      ]
     },
     "execution_count": 14,
     "metadata": {},
     "output_type": "execute_result"
    }
   ],
   "source": [
    "simsMatrix.shape"
   ]
  },
  {
   "cell_type": "markdown",
   "id": "b50cf05f-a7e3-4b2a-8283-d888624390fe",
   "metadata": {},
   "source": [
    "## top-N recommendation"
   ]
  },
  {
   "cell_type": "code",
   "execution_count": 16,
   "id": "f524aa82-2507-4fef-beba-021b09c6f62f",
   "metadata": {},
   "outputs": [],
   "source": [
    "# Get top N similar users to our test subject\n",
    "# (Alternate approach would be to select users up to some similarity threshold - try it!)\n",
    "testUserInnerID = trainSet.to_inner_uid(testSubject)\n",
    "similarityRow = simsMatrix[testUserInnerID]\n",
    "\n",
    "similarUsers = []\n",
    "for innerID, score in enumerate(similarityRow):\n",
    "    if (innerID != testUserInnerID):\n",
    "        similarUsers.append( (innerID, score) )"
   ]
  },
  {
   "cell_type": "markdown",
   "id": "ad868df7-6f68-4610-ab92-237f1121c012",
   "metadata": {},
   "source": [
    "## method 1: weighted average rating without neighbour filtering"
   ]
  },
  {
   "cell_type": "code",
   "execution_count": 17,
   "id": "a15638d8-54df-4210-a455-1ffc05e57f82",
   "metadata": {},
   "outputs": [
    {
     "data": {
      "text/plain": [
       "list"
      ]
     },
     "execution_count": 17,
     "metadata": {},
     "output_type": "execute_result"
    }
   ],
   "source": [
    "kNeighbors = heapq.nlargest(k, similarUsers, key=lambda t: t[1])\n",
    "type(kNeighbors)"
   ]
  },
  {
   "cell_type": "code",
   "execution_count": 18,
   "id": "126f92d7-3aa0-43db-a683-44ecfba2114c",
   "metadata": {},
   "outputs": [
    {
     "data": {
      "text/plain": [
       "[(10, 1.0), (11, 1.0), (13, 1.0), (24, 1.0), (36, 1.0)]"
      ]
     },
     "execution_count": 18,
     "metadata": {},
     "output_type": "execute_result"
    }
   ],
   "source": [
    "# user id with similarity score\n",
    "kNeighbors[:5]"
   ]
  },
  {
   "cell_type": "code",
   "execution_count": 19,
   "id": "7d0e6fff-cd9b-4090-84c9-e6f18e2479ad",
   "metadata": {},
   "outputs": [],
   "source": [
    "# Get the stuff they rated, and add up ratings for each item, weighted by user similarity\n",
    "candidates = defaultdict(float)\n",
    "for similarUser in kNeighbors:\n",
    "    innerID = similarUser[0]\n",
    "    userSimilarityScore = similarUser[1]\n",
    "    theirRatings = trainSet.ur[innerID]\n",
    "    for rating in theirRatings:\n",
    "        candidates[rating[0]] += (rating[1] / 5.0) * userSimilarityScore"
   ]
  },
  {
   "cell_type": "code",
   "execution_count": 20,
   "id": "24122d7d-d1f0-4df8-869c-faa5c7108c89",
   "metadata": {},
   "outputs": [
    {
     "data": {
      "text/plain": [
       "collections.defaultdict"
      ]
     },
     "execution_count": 20,
     "metadata": {},
     "output_type": "execute_result"
    }
   ],
   "source": [
    "type(candidates)"
   ]
  },
  {
   "cell_type": "code",
   "execution_count": 21,
   "id": "ba2c3650-f563-4b6a-8daf-fdb0bb914a74",
   "metadata": {},
   "outputs": [],
   "source": [
    "# Build a dictionary of stuff the user has already seen\n",
    "watched = {}\n",
    "for itemID, rating in trainSet.ur[testUserInnerID]:\n",
    "    watched[itemID] = 1"
   ]
  },
  {
   "cell_type": "code",
   "execution_count": 22,
   "id": "1bd289fb-6278-4815-ad77-ff60ede53815",
   "metadata": {},
   "outputs": [
    {
     "name": "stdout",
     "output_type": "stream",
     "text": [
      "Inception (2010) 3.3\n",
      "Star Wars: Episode V - The Empire Strikes Back (1980) 2.4\n",
      "Bourne Identity, The (1988) 2.0\n",
      "Crouching Tiger, Hidden Dragon (Wo hu cang long) (2000) 2.0\n",
      "Dark Knight, The (2008) 2.0\n",
      "Good, the Bad and the Ugly, The (Buono, il brutto, il cattivo, Il) (1966) 1.9\n",
      "Departed, The (2006) 1.9\n",
      "Dark Knight Rises, The (2012) 1.9\n",
      "Back to the Future (1985) 1.9\n",
      "Gravity (2013) 1.8\n",
      "Fight Club (1999) 1.8\n"
     ]
    }
   ],
   "source": [
    "# Get top-rated items from similar users:\n",
    "pos = 0\n",
    "for itemID, ratingSum in sorted(candidates.items(), key=itemgetter(1), reverse=True):\n",
    "    if not itemID in watched:\n",
    "        movieID = trainSet.to_raw_iid(itemID)\n",
    "        print(ml.getMovieName(int(movieID)), ratingSum)\n",
    "        pos += 1\n",
    "        if (pos > 10):\n",
    "            break"
   ]
  },
  {
   "cell_type": "markdown",
   "id": "2b48f624-8c0d-4b8b-a648-bc8f4bf75080",
   "metadata": {},
   "source": [
    "## method 2: weighted average rating with neighbour filtering"
   ]
  },
  {
   "cell_type": "code",
   "execution_count": 23,
   "id": "300c6208-4ba9-4a0f-9788-7d3c2b4803be",
   "metadata": {},
   "outputs": [],
   "source": [
    "kNeighbors = []\n",
    "for rating in similarUsers:\n",
    "    if rating[1] > 0.95: # only keep high similar neighbours\n",
    "        kNeighbors.append(rating)"
   ]
  },
  {
   "cell_type": "code",
   "execution_count": 24,
   "id": "7fb0f25f-e525-4fb9-8cc0-f37679a9b5a4",
   "metadata": {},
   "outputs": [
    {
     "data": {
      "text/plain": [
       "312"
      ]
     },
     "execution_count": 24,
     "metadata": {},
     "output_type": "execute_result"
    }
   ],
   "source": [
    "len(kNeighbors)"
   ]
  },
  {
   "cell_type": "code",
   "execution_count": 25,
   "id": "04f2a7cc-7215-4065-a59f-5fbb6c1ec224",
   "metadata": {},
   "outputs": [],
   "source": [
    "# Get the stuff they rated, and add up ratings for each item, weighted by user similarity\n",
    "candidates = defaultdict(float)\n",
    "for similarUser in kNeighbors:\n",
    "    innerID = similarUser[0]\n",
    "    userSimilarityScore = similarUser[1]\n",
    "    theirRatings = trainSet.ur[innerID]\n",
    "    for rating in theirRatings:\n",
    "        candidates[rating[0]] += (rating[1] / 5.0) * userSimilarityScore"
   ]
  },
  {
   "cell_type": "code",
   "execution_count": 20,
   "id": "c23ab48d-b545-472c-b0ec-b8e3fe7a17b8",
   "metadata": {},
   "outputs": [
    {
     "data": {
      "text/plain": [
       "collections.defaultdict"
      ]
     },
     "execution_count": 20,
     "metadata": {},
     "output_type": "execute_result"
    }
   ],
   "source": [
    "type(candidates)"
   ]
  },
  {
   "cell_type": "code",
   "execution_count": 26,
   "id": "b75d16ba-91d6-4207-a3ea-06574494d037",
   "metadata": {},
   "outputs": [],
   "source": [
    "# Build a dictionary of stuff the user has already seen\n",
    "watched = {}\n",
    "for itemID, rating in trainSet.ur[testUserInnerID]:\n",
    "    watched[itemID] = 1"
   ]
  },
  {
   "cell_type": "code",
   "execution_count": 27,
   "id": "f33223c9-64dc-4dc8-bf15-55c75492dcf5",
   "metadata": {},
   "outputs": [
    {
     "name": "stdout",
     "output_type": "stream",
     "text": [
      "Star Wars: Episode IV - A New Hope (1977) 114.57068319140309\n",
      "Matrix, The (1999) 107.72095292088618\n",
      "Star Wars: Episode V - The Empire Strikes Back (1980) 88.09116645357186\n",
      "Fight Club (1999) 79.26558201621258\n",
      "Back to the Future (1985) 78.78807368067915\n",
      "Raiders of the Lost Ark (Indiana Jones and the Raiders of the Lost Ark) (1981) 78.77028125945898\n",
      "American Beauty (1999) 77.32300806156537\n",
      "Toy Story (1995) 76.37713266677879\n",
      "Godfather, The (1972) 76.21072562503657\n",
      "Star Wars: Episode VI - Return of the Jedi (1983) 74.71908773556109\n",
      "Lord of the Rings: The Fellowship of the Ring, The (2001) 74.37234120218191\n"
     ]
    }
   ],
   "source": [
    "# Get top-rated items from similar users:\n",
    "pos = 0\n",
    "for itemID, ratingSum in sorted(candidates.items(), key=itemgetter(1), reverse=True):\n",
    "    if not itemID in watched:\n",
    "        movieID = trainSet.to_raw_iid(itemID)\n",
    "        print(ml.getMovieName(int(movieID)), ratingSum)\n",
    "        pos += 1\n",
    "        if (pos > 10):\n",
    "            break"
   ]
  }
 ],
 "metadata": {
  "kernelspec": {
   "display_name": "Python 3 (ipykernel)",
   "language": "python",
   "name": "python3"
  },
  "language_info": {
   "codemirror_mode": {
    "name": "ipython",
    "version": 3
   },
   "file_extension": ".py",
   "mimetype": "text/x-python",
   "name": "python",
   "nbconvert_exporter": "python",
   "pygments_lexer": "ipython3",
   "version": "3.7.9"
  }
 },
 "nbformat": 4,
 "nbformat_minor": 5
}
