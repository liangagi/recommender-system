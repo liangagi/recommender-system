{
 "cells": [
  {
   "cell_type": "markdown",
   "id": "817c5d09-8da3-435a-b14e-5cc82b8499b1",
   "metadata": {},
   "source": [
    "# Item based collaborative filtering with KNN"
   ]
  },
  {
   "cell_type": "markdown",
   "id": "9c2e55fc-eca5-4ffc-ad52-70572b932084",
   "metadata": {},
   "source": [
    "## load package"
   ]
  },
  {
   "cell_type": "code",
   "execution_count": 1,
   "id": "d0748557-782d-4791-a327-1e131c413311",
   "metadata": {},
   "outputs": [],
   "source": [
    "import heapq\n",
    "from collections import defaultdict\n",
    "from operator import itemgetter\n",
    "\n",
    "from surprise import KNNBasic\n",
    "\n",
    "from utils.MovieLens import MovieLens"
   ]
  },
  {
   "cell_type": "markdown",
   "id": "337a2350-38f6-40d4-a40a-00bc703f33da",
   "metadata": {},
   "source": [
    "## read data"
   ]
  },
  {
   "cell_type": "code",
   "execution_count": 2,
   "id": "b6c609c4-0cbe-4816-91bc-68110f97926b",
   "metadata": {},
   "outputs": [],
   "source": [
    "testSubject = '85'\n",
    "k = 10\n",
    "\n",
    "ml = MovieLens()\n",
    "data = ml.loadMovieLensLatestSmall()\n",
    "\n",
    "trainSet = data.build_full_trainset()"
   ]
  },
  {
   "cell_type": "markdown",
   "id": "ef564e52-0612-4c0c-b39f-545dc0e897a4",
   "metadata": {},
   "source": [
    "## Item based collaborative filtering with KNN"
   ]
  },
  {
   "cell_type": "code",
   "execution_count": 3,
   "id": "369f3db4-0e72-4258-a0a5-dbf72efdb4a6",
   "metadata": {},
   "outputs": [
    {
     "name": "stdout",
     "output_type": "stream",
     "text": [
      "Computing the cosine similarity matrix...\n",
      "Done computing similarity matrix.\n",
      "Computing the cosine similarity matrix...\n",
      "Done computing similarity matrix.\n"
     ]
    }
   ],
   "source": [
    "sim_options = {'name': 'cosine',\n",
    "               'user_based': False\n",
    "               }\n",
    "\n",
    "model = KNNBasic(sim_options=sim_options)\n",
    "model.fit(trainSet)\n",
    "simsMatrix = model.compute_similarities()"
   ]
  },
  {
   "cell_type": "code",
   "execution_count": 4,
   "id": "37432bdf-33c6-4104-b3bd-51b9e8d2925b",
   "metadata": {},
   "outputs": [
    {
     "data": {
      "text/plain": [
       "(9066, 9066)"
      ]
     },
     "execution_count": 4,
     "metadata": {},
     "output_type": "execute_result"
    }
   ],
   "source": [
    "# item - item similarity\n",
    "simsMatrix.shape"
   ]
  },
  {
   "cell_type": "code",
   "execution_count": null,
   "id": "5547e490-ba48-465c-9de6-d805c0d3048a",
   "metadata": {},
   "outputs": [],
   "source": [
    "testUserInnerID = trainSet.to_inner_uid(testSubject)"
   ]
  },
  {
   "cell_type": "markdown",
   "id": "ae0f79f8-28c5-4d72-a5ab-aa01f990fdb8",
   "metadata": {},
   "source": [
    "## method 1: weighted average rating without neighbour rating filtering"
   ]
  },
  {
   "cell_type": "code",
   "execution_count": 5,
   "id": "177400cb-bc0e-4c10-8e9d-83b6d154df32",
   "metadata": {},
   "outputs": [],
   "source": [
    "# Get the top K items we rated\n",
    "testUserRatings = trainSet.ur[testUserInnerID]\n",
    "kNeighbors = heapq.nlargest(k, testUserRatings, key=lambda t: t[1])"
   ]
  },
  {
   "cell_type": "code",
   "execution_count": 6,
   "id": "70530c9a-66d8-462c-982f-36239f3e340b",
   "metadata": {},
   "outputs": [],
   "source": [
    "# Get similar items to stuff we liked (weighted by rating)\n",
    "candidates = defaultdict(float)\n",
    "for itemID, rating in kNeighbors:\n",
    "    similarityRow = simsMatrix[itemID]\n",
    "    for innerID, score in enumerate(similarityRow):\n",
    "        candidates[innerID] += score * (rating / 5.0)"
   ]
  },
  {
   "cell_type": "code",
   "execution_count": 7,
   "id": "18861e1d-2d23-47da-9af4-38c5a3b96f85",
   "metadata": {},
   "outputs": [
    {
     "name": "stdout",
     "output_type": "stream",
     "text": [
      "James Dean Story, The (1957) 10.0\n",
      "Get Real (1998) 9.987241120712646\n",
      "Kiss of Death (1995) 9.966881877751941\n",
      "Set It Off (1996) 9.963732215657119\n",
      "How Green Was My Valley (1941) 9.943984081065269\n",
      "Amos & Andrew (1993) 9.93973694500253\n",
      "My Crazy Life (Mi vida loca) (1993) 9.938290487546041\n",
      "Grace of My Heart (1996) 9.926255896645218\n",
      "Fanny and Alexander (Fanny och Alexander) (1982) 9.925699671455906\n",
      "Wild Reeds (Les roseaux sauvages) (1994) 9.916226404418774\n",
      "Edge of Seventeen (1998) 9.913028764691676\n"
     ]
    }
   ],
   "source": [
    "# Build a dictionary of stuff the user has already seen\n",
    "watched = {}\n",
    "for itemID, rating in trainSet.ur[testUserInnerID]:\n",
    "    watched[itemID] = 1\n",
    "    \n",
    "# Get top-rated items:\n",
    "pos = 0\n",
    "for itemID, ratingSum in sorted(candidates.items(), key=itemgetter(1), reverse=True):\n",
    "    if not itemID in watched:\n",
    "        movieID = trainSet.to_raw_iid(itemID)\n",
    "        print(ml.getMovieName(int(movieID)), ratingSum)\n",
    "        pos += 1\n",
    "        if (pos > 10):\n",
    "            break"
   ]
  },
  {
   "cell_type": "markdown",
   "id": "59bc6467-afe7-4dab-b309-f40f0291a16b",
   "metadata": {},
   "source": [
    "## method 2: weighted average rating with neighbour rating filtering"
   ]
  },
  {
   "cell_type": "code",
   "execution_count": 8,
   "id": "9278f45f-aba0-4847-8ff6-24e5e01b065e",
   "metadata": {},
   "outputs": [],
   "source": [
    "testUserRatings = trainSet.ur[testUserInnerID]\n",
    "\n",
    "kNeighbors = []\n",
    "for rating in testUserRatings:\n",
    "    if rating[1] > 4.0: # only keep high rating items from neighbours\n",
    "        kNeighbors.append(rating) "
   ]
  },
  {
   "cell_type": "code",
   "execution_count": 11,
   "id": "c166a610-fd5d-40e9-9490-1307d32f8c75",
   "metadata": {},
   "outputs": [
    {
     "data": {
      "text/plain": [
       "17"
      ]
     },
     "execution_count": 11,
     "metadata": {},
     "output_type": "execute_result"
    }
   ],
   "source": [
    "len(kNeighbors)"
   ]
  },
  {
   "cell_type": "code",
   "execution_count": 9,
   "id": "d69a7ec4-8f73-4b0b-ae4a-7d09573093af",
   "metadata": {},
   "outputs": [],
   "source": [
    "# Get similar items to stuff we liked (weighted by rating)\n",
    "candidates = defaultdict(float)\n",
    "for itemID, rating in kNeighbors:\n",
    "    similarityRow = simsMatrix[itemID]\n",
    "    for innerID, score in enumerate(similarityRow):\n",
    "        candidates[innerID] += score * (rating / 5.0)"
   ]
  },
  {
   "cell_type": "code",
   "execution_count": 10,
   "id": "13e033b9-e608-4c64-a671-22abd05b0c46",
   "metadata": {},
   "outputs": [
    {
     "name": "stdout",
     "output_type": "stream",
     "text": [
      "Kiss of Death (1995) 16.910437073265502\n",
      "Amos & Andrew (1993) 16.861270021975354\n",
      "Edge of Seventeen (1998) 16.853845983977223\n",
      "Get Real (1998) 16.840092759084882\n",
      "Grace of My Heart (1996) 16.83866418909583\n",
      "Relax... It's Just Sex (1998) 16.825893097731395\n",
      "My Crazy Life (Mi vida loca) (1993) 16.825163372963015\n",
      "Set It Off (1996) 16.820045947032426\n",
      "Bean (1997) 16.81043113102984\n",
      "Joe's Apartment (1996) 16.804698282071367\n",
      "Lost & Found (1999) 16.78956315445952\n"
     ]
    }
   ],
   "source": [
    "# Build a dictionary of stuff the user has already seen\n",
    "watched = {}\n",
    "for itemID, rating in trainSet.ur[testUserInnerID]:\n",
    "    watched[itemID] = 1\n",
    "    \n",
    "# Get top-rated items:\n",
    "pos = 0\n",
    "for itemID, ratingSum in sorted(candidates.items(), key=itemgetter(1), reverse=True):\n",
    "    if not itemID in watched:\n",
    "        movieID = trainSet.to_raw_iid(itemID)\n",
    "        print(ml.getMovieName(int(movieID)), ratingSum)\n",
    "        pos += 1\n",
    "        if (pos > 10):\n",
    "            break"
   ]
  }
 ],
 "metadata": {
  "kernelspec": {
   "display_name": "Python 3 (ipykernel)",
   "language": "python",
   "name": "python3"
  },
  "language_info": {
   "codemirror_mode": {
    "name": "ipython",
    "version": 3
   },
   "file_extension": ".py",
   "mimetype": "text/x-python",
   "name": "python",
   "nbconvert_exporter": "python",
   "pygments_lexer": "ipython3",
   "version": "3.7.9"
  }
 },
 "nbformat": 4,
 "nbformat_minor": 5
}
