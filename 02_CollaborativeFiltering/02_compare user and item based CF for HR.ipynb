{
 "cells": [
  {
   "cell_type": "markdown",
   "id": "6e79547c-1056-4330-880d-53d2ba7abdf9",
   "metadata": {
    "tags": []
   },
   "source": [
    "# Compare user and item-based CF with KNN for Hit Rate"
   ]
  },
  {
   "cell_type": "markdown",
   "id": "3411b865-a047-48a8-a3e5-b83f159c743f",
   "metadata": {},
   "source": [
    "## load package"
   ]
  },
  {
   "cell_type": "code",
   "execution_count": 1,
   "id": "11ce2a1a-eb31-42b7-9131-f8a0eb163e50",
   "metadata": {},
   "outputs": [],
   "source": [
    "import heapq\n",
    "from collections import defaultdict\n",
    "from operator import itemgetter\n",
    "\n",
    "from surprise import KNNBasic\n",
    "from surprise.model_selection import LeaveOneOut\n",
    "\n",
    "from utils.MovieLens import MovieLens\n",
    "from utils.RecommenderMetrics import RecommenderMetrics\n",
    "from utils.EvaluationData import EvaluationData"
   ]
  },
  {
   "cell_type": "markdown",
   "id": "705c903b-309f-49ce-8783-14d3fbfecc2a",
   "metadata": {},
   "source": [
    "## utils function"
   ]
  },
  {
   "cell_type": "code",
   "execution_count": 2,
   "id": "f8df2f4d-6f75-4123-b2e8-1861bd345fbd",
   "metadata": {},
   "outputs": [],
   "source": [
    "def LoadMovieLensData():\n",
    "    ml = MovieLens()\n",
    "    print(\"Loading movie ratings...\")\n",
    "    data = ml.loadMovieLensLatestSmall()\n",
    "    print(\"\\nComputing movie popularity ranks so we can measure novelty later...\")\n",
    "    rankings = ml.getPopularityRanks()\n",
    "    return (ml, data, rankings)"
   ]
  },
  {
   "cell_type": "markdown",
   "id": "bf90aadd-7aca-4370-8f88-14d0a373f3bc",
   "metadata": {},
   "source": [
    "## read data"
   ]
  },
  {
   "cell_type": "code",
   "execution_count": 3,
   "id": "ad40b920-26c2-4abd-826c-98fa5b3a7374",
   "metadata": {},
   "outputs": [
    {
     "name": "stdout",
     "output_type": "stream",
     "text": [
      "Loading movie ratings...\n",
      "\n",
      "Computing movie popularity ranks so we can measure novelty later...\n",
      "Estimating biases using als...\n",
      "Computing the cosine similarity matrix...\n",
      "Done computing similarity matrix.\n"
     ]
    }
   ],
   "source": [
    "ml, data, rankings = LoadMovieLensData()\n",
    "\n",
    "evalData = EvaluationData(data, rankings)"
   ]
  },
  {
   "cell_type": "markdown",
   "id": "4e6706d9-ebf1-47d9-8761-750470678170",
   "metadata": {},
   "source": [
    "## user-based CF with KNN"
   ]
  },
  {
   "cell_type": "code",
   "execution_count": 4,
   "id": "2e7167d0-24ae-4804-9e56-95c5a8482c31",
   "metadata": {},
   "outputs": [
    {
     "name": "stdout",
     "output_type": "stream",
     "text": [
      "Computing the cosine similarity matrix...\n",
      "Done computing similarity matrix.\n",
      "Computing the cosine similarity matrix...\n",
      "Done computing similarity matrix.\n"
     ]
    }
   ],
   "source": [
    "# Train on leave-One-Out train set\n",
    "trainSet = evalData.GetLOOCVTrainSet()\n",
    "sim_options = {'name': 'cosine',\n",
    "               'user_based': True\n",
    "               }\n",
    "\n",
    "model = KNNBasic(sim_options=sim_options)\n",
    "model.fit(trainSet)\n",
    "# user - user similarity\n",
    "simsMatrix = model.compute_similarities()"
   ]
  },
  {
   "cell_type": "code",
   "execution_count": 5,
   "id": "64608917-e3b8-4c65-85f3-55f8e51f6144",
   "metadata": {},
   "outputs": [
    {
     "name": "stdout",
     "output_type": "stream",
     "text": [
      "HR 0.05514157973174367\n"
     ]
    }
   ],
   "source": [
    "leftOutTestSet = evalData.GetLOOCVTestSet()\n",
    "\n",
    "# Build up dict to lists of (int(movieID), predictedrating) pairs\n",
    "topN = defaultdict(list)\n",
    "k = 10\n",
    "for uiid in range(trainSet.n_users):\n",
    "    # Get top N similar users to this one\n",
    "    similarityRow = simsMatrix[uiid]\n",
    "    \n",
    "    similarUsers = []\n",
    "    for innerID, score in enumerate(similarityRow):\n",
    "        if (innerID != uiid):\n",
    "            similarUsers.append( (innerID, score) )\n",
    "    \n",
    "    kNeighbors = heapq.nlargest(k, similarUsers, key=lambda t: t[1])\n",
    "    \n",
    "    # Get the stuff they rated, and add up ratings for each item, weighted by user similarity\n",
    "    candidates = defaultdict(float)\n",
    "    for similarUser in kNeighbors:\n",
    "        innerID = similarUser[0]\n",
    "        userSimilarityScore = similarUser[1]\n",
    "        theirRatings = trainSet.ur[innerID]\n",
    "        for rating in theirRatings:\n",
    "            candidates[rating[0]] += (rating[1] / 5.0) * userSimilarityScore\n",
    "        \n",
    "    # Build a dictionary of stuff the user has already seen\n",
    "    watched = {}\n",
    "    for itemID, rating in trainSet.ur[uiid]:\n",
    "        watched[itemID] = 1\n",
    "        \n",
    "    # Get top-rated items from similar users:\n",
    "    pos = 0\n",
    "    for itemID, ratingSum in sorted(candidates.items(), key=itemgetter(1), reverse=True):\n",
    "        if not itemID in watched:\n",
    "            movieID = trainSet.to_raw_iid(itemID)\n",
    "            topN[int(trainSet.to_raw_uid(uiid))].append( (int(movieID), 0.0) )\n",
    "            pos += 1\n",
    "            if (pos > 40):\n",
    "                break\n",
    "    \n",
    "# Measure\n",
    "print(\"HR\", RecommenderMetrics.HitRate(topN, leftOutTestSet)) "
   ]
  },
  {
   "cell_type": "markdown",
   "id": "214b20bb-7d2e-4f1d-8169-45b3874575ec",
   "metadata": {},
   "source": [
    "Remark: HR 5.5% is promising"
   ]
  },
  {
   "cell_type": "markdown",
   "id": "9f781078-359b-4558-a624-b7c7e1b1654b",
   "metadata": {
    "tags": []
   },
   "source": [
    "## item-based CF with KNN"
   ]
  },
  {
   "cell_type": "code",
   "execution_count": 6,
   "id": "7ccf3e91-3592-4996-b51d-6a9eea5185aa",
   "metadata": {},
   "outputs": [
    {
     "name": "stdout",
     "output_type": "stream",
     "text": [
      "Computing the cosine similarity matrix...\n",
      "Done computing similarity matrix.\n",
      "Computing the cosine similarity matrix...\n",
      "Done computing similarity matrix.\n"
     ]
    }
   ],
   "source": [
    "# Train on leave-One-Out train set\n",
    "trainSet = evalData.GetLOOCVTrainSet()\n",
    "sim_options = {'name': 'cosine',\n",
    "               'user_based': False\n",
    "               }\n",
    "\n",
    "model = KNNBasic(sim_options=sim_options)\n",
    "model.fit(trainSet)\n",
    "# item - item similarity\n",
    "simsMatrix = model.compute_similarities()"
   ]
  },
  {
   "cell_type": "code",
   "execution_count": 7,
   "id": "9749cd24-23ce-4fe4-8e28-4037a793e368",
   "metadata": {},
   "outputs": [
    {
     "name": "stdout",
     "output_type": "stream",
     "text": [
      "HR 0.005961251862891207\n"
     ]
    }
   ],
   "source": [
    "leftOutTestSet = evalData.GetLOOCVTestSet()\n",
    "\n",
    "# Build up dict to lists of (int(movieID), predictedrating) pairs\n",
    "topN = defaultdict(list)\n",
    "k = 10\n",
    "for uiid in range(trainSet.n_users):\n",
    "    # Get the top K items we rated\n",
    "    userRatings = trainSet.ur[uiid]\n",
    "    kNeighbors = heapq.nlargest(k, userRatings, key=lambda t: t[1])\n",
    "    \n",
    "    # Get similar items to stuff we liked (weighted by rating)\n",
    "    candidates = defaultdict(float)\n",
    "    for itemID, rating in kNeighbors:\n",
    "        similarityRow = simsMatrix[itemID]\n",
    "        for innerID, score in enumerate(similarityRow):\n",
    "            candidates[innerID] += score * (rating / 5.0)\n",
    "        \n",
    "    # Build a dictionary of stuff the user has already seen\n",
    "    watched = {}\n",
    "    for itemID, rating in trainSet.ur[uiid]:\n",
    "        watched[itemID] = 1\n",
    "        \n",
    "    # Get top-rated items:\n",
    "    pos = 0\n",
    "    for itemID, ratingSum in sorted(candidates.items(), key=itemgetter(1), reverse=True):\n",
    "        if not itemID in watched:\n",
    "            movieID = trainSet.to_raw_iid(itemID)\n",
    "            topN[int(trainSet.to_raw_uid(uiid))].append( (int(movieID), 0.0) )\n",
    "            pos += 1\n",
    "            if (pos > 40):\n",
    "                break\n",
    "    \n",
    "# Measure\n",
    "print(\"HR\", RecommenderMetrics.HitRate(topN, leftOutTestSet)) "
   ]
  }
 ],
 "metadata": {
  "kernelspec": {
   "display_name": "Python 3 (ipykernel)",
   "language": "python",
   "name": "python3"
  },
  "language_info": {
   "codemirror_mode": {
    "name": "ipython",
    "version": 3
   },
   "file_extension": ".py",
   "mimetype": "text/x-python",
   "name": "python",
   "nbconvert_exporter": "python",
   "pygments_lexer": "ipython3",
   "version": "3.7.9"
  }
 },
 "nbformat": 4,
 "nbformat_minor": 5
}
