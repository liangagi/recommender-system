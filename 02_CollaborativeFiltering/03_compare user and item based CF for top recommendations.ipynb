{
 "cells": [
  {
   "cell_type": "markdown",
   "id": "a6dd8c60-f00f-42c4-969b-0ad387a7f27a",
   "metadata": {},
   "source": [
    "# Compare user and item based CF with KNN for top-N recommendations"
   ]
  },
  {
   "cell_type": "markdown",
   "id": "2fb27eed-eb32-488b-86d2-c7ed485782c8",
   "metadata": {},
   "source": [
    "## load package"
   ]
  },
  {
   "cell_type": "code",
   "execution_count": 1,
   "id": "3fc589cc-f420-4bb8-b932-6e7903aafd78",
   "metadata": {},
   "outputs": [],
   "source": [
    "import random\n",
    "import numpy as np\n",
    "\n",
    "from surprise import KNNBasic, NormalPredictor\n",
    "\n",
    "from utils.MovieLens import MovieLens\n",
    "from utils.Evaluator import Evaluator"
   ]
  },
  {
   "cell_type": "markdown",
   "id": "a06841a1-22b3-4314-abd3-116f808061de",
   "metadata": {},
   "source": [
    "## utils function"
   ]
  },
  {
   "cell_type": "code",
   "execution_count": 2,
   "id": "c7ef870a-a26c-4890-8b6b-9fd9741efd43",
   "metadata": {},
   "outputs": [],
   "source": [
    "def LoadMovieLensData():\n",
    "    ml = MovieLens()\n",
    "    print(\"Loading movie ratings...\")\n",
    "    data = ml.loadMovieLensLatestSmall()\n",
    "    print(\"\\nComputing movie popularity ranks so we can measure novelty later...\")\n",
    "    rankings = ml.getPopularityRanks()\n",
    "    return (ml, data, rankings)"
   ]
  },
  {
   "cell_type": "code",
   "execution_count": 3,
   "id": "4a1b7b01-f30d-4e89-815d-5e4f3b211f6e",
   "metadata": {},
   "outputs": [],
   "source": [
    "np.random.seed(0)\n",
    "random.seed(0)"
   ]
  },
  {
   "cell_type": "markdown",
   "id": "8615e4b7-00d6-4e7c-8781-1f008b304350",
   "metadata": {},
   "source": [
    "## read data"
   ]
  },
  {
   "cell_type": "code",
   "execution_count": 4,
   "id": "06213907-9a4c-4eb9-a5e8-fb81d2b64652",
   "metadata": {},
   "outputs": [
    {
     "name": "stdout",
     "output_type": "stream",
     "text": [
      "Loading movie ratings...\n",
      "\n",
      "Computing movie popularity ranks so we can measure novelty later...\n",
      "Estimating biases using als...\n",
      "Computing the cosine similarity matrix...\n",
      "Done computing similarity matrix.\n"
     ]
    }
   ],
   "source": [
    "# Load up common data set for the recommender algorithms\n",
    "(ml, evaluationData, rankings) = LoadMovieLensData()\n",
    "\n",
    "# Construct an Evaluator to, you know, evaluate them\n",
    "evaluator = Evaluator(evaluationData, rankings)"
   ]
  },
  {
   "cell_type": "markdown",
   "id": "584b5d82-4143-484f-b9d2-d0852441eb0f",
   "metadata": {},
   "source": [
    "## compare user and item based CF with KNN for top recommendations"
   ]
  },
  {
   "cell_type": "code",
   "execution_count": 5,
   "id": "f7a5decc-b6bc-4412-956e-894003aebc5e",
   "metadata": {},
   "outputs": [],
   "source": [
    "# User-based KNN\n",
    "UserKNN = KNNBasic(sim_options = {'name': 'cosine', 'user_based': True})\n",
    "evaluator.AddAlgorithm(UserKNN, \"User KNN\")"
   ]
  },
  {
   "cell_type": "code",
   "execution_count": 6,
   "id": "bed70c3f-4c09-4624-a092-df23a35ddb93",
   "metadata": {},
   "outputs": [],
   "source": [
    "# Item-based KNN\n",
    "ItemKNN = KNNBasic(sim_options = {'name': 'cosine', 'user_based': False})\n",
    "evaluator.AddAlgorithm(ItemKNN, \"Item KNN\")"
   ]
  },
  {
   "cell_type": "code",
   "execution_count": 7,
   "id": "1f25b435-b1cc-45fe-b4f4-57e537d9bcba",
   "metadata": {},
   "outputs": [],
   "source": [
    "# Just make random recommendations\n",
    "Random = NormalPredictor()\n",
    "evaluator.AddAlgorithm(Random, \"Random\")"
   ]
  },
  {
   "cell_type": "code",
   "execution_count": 8,
   "id": "803039ed-e3f2-4640-863c-baf15dd6ca33",
   "metadata": {},
   "outputs": [
    {
     "name": "stdout",
     "output_type": "stream",
     "text": [
      "Evaluating  User KNN ...\n",
      "Evaluating accuracy...\n",
      "Computing the cosine similarity matrix...\n",
      "Done computing similarity matrix.\n",
      "Analysis complete.\n",
      "Evaluating  Item KNN ...\n",
      "Evaluating accuracy...\n",
      "Computing the cosine similarity matrix...\n",
      "Done computing similarity matrix.\n",
      "Analysis complete.\n",
      "Evaluating  Random ...\n",
      "Evaluating accuracy...\n",
      "Analysis complete.\n",
      "\n",
      "\n",
      "Algorithm  RMSE       MAE       \n",
      "User KNN   0.9961     0.7711    \n",
      "Item KNN   0.9995     0.7798    \n",
      "Random     1.4385     1.1478    \n",
      "\n",
      "Legend:\n",
      "\n",
      "RMSE:      Root Mean Squared Error. Lower values mean better accuracy.\n",
      "MAE:       Mean Absolute Error. Lower values mean better accuracy.\n",
      "\n",
      "Using recommender  User KNN\n",
      "\n",
      "Building recommendation model...\n",
      "Computing the cosine similarity matrix...\n",
      "Done computing similarity matrix.\n",
      "Computing recommendations...\n",
      "\n",
      "We recommend:\n",
      "One Magic Christmas (1985) 5\n",
      "Step Into Liquid (2002) 5\n",
      "Art of War, The (2000) 5\n",
      "Taste of Cherry (Ta'm e guilass) (1997) 5\n",
      "King Is Alive, The (2000) 5\n",
      "Innocence (2000) 5\n",
      "MaelstrÃ¶m (2000) 5\n",
      "Faust (1926) 5\n",
      "Seconds (1966) 5\n",
      "Amazing Grace (2006) 5\n",
      "\n",
      "Using recommender  Item KNN\n",
      "\n",
      "Building recommendation model...\n",
      "Computing the cosine similarity matrix...\n",
      "Done computing similarity matrix.\n",
      "Computing recommendations...\n",
      "\n",
      "We recommend:\n",
      "Life in a Day (2011) 5\n",
      "Under Suspicion (2000) 5\n",
      "Asterix and the Gauls (AstÃ©rix le Gaulois) (1967) 5\n",
      "Find Me Guilty (2006) 5\n",
      "Elementary Particles, The (Elementarteilchen) (2006) 5\n",
      "Asterix and the Vikings (AstÃ©rix et les Vikings) (2006) 5\n",
      "From the Sky Down (2011) 5\n",
      "Vive L'Amour (Ai qing wan sui) (1994) 5\n",
      "Vagabond (Sans toit ni loi) (1985) 5\n",
      "Ariel (1988) 5\n",
      "\n",
      "Using recommender  Random\n",
      "\n",
      "Building recommendation model...\n",
      "Computing recommendations...\n",
      "\n",
      "We recommend:\n",
      "Sleepers (1996) 5\n",
      "Beavis and Butt-Head Do America (1996) 5\n",
      "Fear and Loathing in Las Vegas (1998) 5\n",
      "Happiness (1998) 5\n",
      "Summer of Sam (1999) 5\n",
      "Bowling for Columbine (2002) 5\n",
      "Babe (1995) 5\n",
      "Birdcage, The (1996) 5\n",
      "Carlito's Way (1993) 5\n",
      "Wizard of Oz, The (1939) 5\n"
     ]
    }
   ],
   "source": [
    "# Fight!\n",
    "evaluator.Evaluate(False)\n",
    "\n",
    "# take samples for quick comparison\n",
    "evaluator.SampleTopNRecs(ml)"
   ]
  },
  {
   "cell_type": "markdown",
   "id": "28066923-eb8b-4732-9987-8bbea81079e7",
   "metadata": {},
   "source": [
    "Remark: KNN generally not work well in practice"
   ]
  }
 ],
 "metadata": {
  "kernelspec": {
   "display_name": "Python 3 (ipykernel)",
   "language": "python",
   "name": "python3"
  },
  "language_info": {
   "codemirror_mode": {
    "name": "ipython",
    "version": 3
   },
   "file_extension": ".py",
   "mimetype": "text/x-python",
   "name": "python",
   "nbconvert_exporter": "python",
   "pygments_lexer": "ipython3",
   "version": "3.7.9"
  }
 },
 "nbformat": 4,
 "nbformat_minor": 5
}
