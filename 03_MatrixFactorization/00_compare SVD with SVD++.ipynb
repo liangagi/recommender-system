{
 "cells": [
  {
   "cell_type": "markdown",
   "id": "fa1a72a7-e7fe-4219-abad-711f1f9b3336",
   "metadata": {},
   "source": [
    "# Compare Matrix Factorization with SVD and SVD++\n",
    "Also perform hyperparameter tuning for SVD"
   ]
  },
  {
   "cell_type": "markdown",
   "id": "1176d317-3311-4cfa-a7a7-60db6178db6a",
   "metadata": {},
   "source": [
    "## load package"
   ]
  },
  {
   "cell_type": "code",
   "execution_count": 6,
   "id": "ad977c5c-60fc-47a0-94b8-93e78a7733b1",
   "metadata": {},
   "outputs": [],
   "source": [
    "import random\n",
    "import numpy as np\n",
    "\n",
    "from surprise import SVD, SVDpp, NormalPredictor\n",
    "from surprise.model_selection import GridSearchCV\n",
    "\n",
    "from utils.MovieLens import MovieLens\n",
    "from utils.Evaluator import Evaluator"
   ]
  },
  {
   "cell_type": "markdown",
   "id": "7be17a76-9168-4504-9b2f-3746ee4b1792",
   "metadata": {},
   "source": [
    "## utils function"
   ]
  },
  {
   "cell_type": "code",
   "execution_count": 2,
   "id": "b57f48bb-67ee-4f2d-a9e6-24df3b9e65c1",
   "metadata": {},
   "outputs": [],
   "source": [
    "def LoadMovieLensData():\n",
    "    ml = MovieLens()\n",
    "    print(\"Loading movie ratings...\")\n",
    "    data = ml.loadMovieLensLatestSmall()\n",
    "    print(\"\\nComputing movie popularity ranks so we can measure novelty later...\")\n",
    "    rankings = ml.getPopularityRanks()\n",
    "    return (ml, data, rankings)"
   ]
  },
  {
   "cell_type": "code",
   "execution_count": null,
   "id": "b014ca0d-f488-49f7-87cf-b7a0b5ad8272",
   "metadata": {},
   "outputs": [],
   "source": [
    "np.random.seed(0)\n",
    "random.seed(0)"
   ]
  },
  {
   "cell_type": "markdown",
   "id": "f3a64aa3-a1e0-40de-b2c0-c2085da1537a",
   "metadata": {},
   "source": [
    "## read data"
   ]
  },
  {
   "cell_type": "code",
   "execution_count": 3,
   "id": "0f027eb7-f025-49db-9429-9141ae03a1bb",
   "metadata": {},
   "outputs": [
    {
     "name": "stdout",
     "output_type": "stream",
     "text": [
      "Loading movie ratings...\n",
      "\n",
      "Computing movie popularity ranks so we can measure novelty later...\n",
      "Estimating biases using als...\n",
      "Computing the cosine similarity matrix...\n",
      "Done computing similarity matrix.\n"
     ]
    }
   ],
   "source": [
    "# Load up common data set for the recommender algorithms\n",
    "(ml, evaluationData, rankings) = LoadMovieLensData()\n",
    "\n",
    "# Construct an Evaluator to, you know, evaluate them\n",
    "evaluator = Evaluator(evaluationData, rankings)"
   ]
  },
  {
   "cell_type": "markdown",
   "id": "11e99957-79b6-4771-aa85-43dae5fe2422",
   "metadata": {},
   "source": [
    "## compare SVD with SVD++"
   ]
  },
  {
   "cell_type": "code",
   "execution_count": 4,
   "id": "7703ae42-4630-43e5-9d9b-92489fa6d1f2",
   "metadata": {},
   "outputs": [
    {
     "name": "stdout",
     "output_type": "stream",
     "text": [
      "Evaluating  SVD ...\n",
      "Evaluating accuracy...\n",
      "Analysis complete.\n",
      "Evaluating  SVD++ ...\n",
      "Evaluating accuracy...\n",
      "Analysis complete.\n",
      "Evaluating  Random ...\n",
      "Evaluating accuracy...\n",
      "Analysis complete.\n",
      "\n",
      "\n",
      "Algorithm  RMSE       MAE       \n",
      "SVD        0.9039     0.6984    \n",
      "SVD++      0.8943     0.6887    \n",
      "Random     1.4359     1.1493    \n",
      "\n",
      "Legend:\n",
      "\n",
      "RMSE:      Root Mean Squared Error. Lower values mean better accuracy.\n",
      "MAE:       Mean Absolute Error. Lower values mean better accuracy.\n",
      "\n",
      "Using recommender  SVD\n",
      "\n",
      "Building recommendation model...\n",
      "Computing recommendations...\n",
      "\n",
      "We recommend:\n",
      "Gladiator (1992) 4.520884890007874\n",
      "Philadelphia Story, The (1940) 4.420701711947352\n",
      "Stand by Me (1986) 4.3959589752178365\n",
      "Moon (2009) 4.372613693384055\n",
      "Happiness (1998) 4.369493252705134\n",
      "American Graffiti (1973) 4.353470600109924\n",
      "And Your Mother Too (Y tu mamÃ¡ tambiÃ©n) (2001) 4.3491924926304995\n",
      "Wallace & Gromit: A Close Shave (1995) 4.3154412154304085\n",
      "Band of Brothers (2001) 4.315414828016616\n",
      "Seven Samurai (Shichinin no samurai) (1954) 4.311102920673881\n",
      "\n",
      "Using recommender  SVD++\n",
      "\n",
      "Building recommendation model...\n",
      "Computing recommendations...\n",
      "\n",
      "We recommend:\n",
      "Lock, Stock & Two Smoking Barrels (1998) 4.60422766627621\n",
      "The Imitation Game (2014) 4.457817607681913\n",
      "Amadeus (1984) 4.322529285260794\n",
      "Indiana Jones and the Last Crusade (1989) 4.289355864317423\n",
      "Happiness (1998) 4.260333724293291\n",
      "Harry Potter and the Sorcerer's Stone (a.k.a. Harry Potter and the Philosopher's Stone) (2001) 4.229511982111833\n",
      "Wings of Desire (Himmel Ã¼ber Berlin, Der) (1987) 4.2247114809512345\n",
      "Grand Day Out with Wallace and Gromit, A (1989) 4.223352198994352\n",
      "Charade (1963) 4.208953110263677\n",
      "Snatch (2000) 4.204477673848874\n",
      "\n",
      "Using recommender  Random\n",
      "\n",
      "Building recommendation model...\n",
      "Computing recommendations...\n",
      "\n",
      "We recommend:\n",
      "Usual Suspects, The (1995) 5\n",
      "Legends of the Fall (1994) 5\n",
      "Trainspotting (1996) 5\n",
      "Titanic (1997) 5\n",
      "Happiness (1998) 5\n",
      "Big Daddy (1999) 5\n",
      "Spider-Man 2 (2004) 5\n",
      "Blade Runner (1982) 5\n",
      "Stand by Me (1986) 5\n",
      "Indiana Jones and the Last Crusade (1989) 5\n"
     ]
    }
   ],
   "source": [
    "# SVD\n",
    "SVD = SVD()\n",
    "evaluator.AddAlgorithm(SVD, \"SVD\")\n",
    "\n",
    "# SVD++\n",
    "SVDPlusPlus = SVDpp()\n",
    "evaluator.AddAlgorithm(SVDPlusPlus, \"SVD++\")\n",
    "\n",
    "# Just make random recommendations\n",
    "Random = NormalPredictor()\n",
    "evaluator.AddAlgorithm(Random, \"Random\")\n",
    "\n",
    "# Fight!\n",
    "evaluator.Evaluate(False)\n",
    "\n",
    "evaluator.SampleTopNRecs(ml)"
   ]
  },
  {
   "cell_type": "markdown",
   "id": "2b116f9d-c8c9-4d7a-817d-0db17346a3ac",
   "metadata": {},
   "source": [
    "## hyperparameter tuning for SVD"
   ]
  },
  {
   "cell_type": "code",
   "execution_count": 7,
   "id": "6c445c60-f02d-43ce-aff7-d4c7d1cfb9f7",
   "metadata": {},
   "outputs": [
    {
     "name": "stdout",
     "output_type": "stream",
     "text": [
      "Searching for best parameters...\n",
      "Best RMSE score attained:  0.8998197388777108\n",
      "{'n_epochs': 20, 'lr_all': 0.005, 'n_factors': 50}\n"
     ]
    }
   ],
   "source": [
    "print(\"Searching for best parameters...\")\n",
    "param_grid = {'n_epochs': [20, 30], 'lr_all': [0.005, 0.010],\n",
    "              'n_factors': [50, 100]}\n",
    "gs = GridSearchCV(SVD, param_grid, measures=['rmse', 'mae'], cv=3)\n",
    "\n",
    "gs.fit(evaluationData)\n",
    "\n",
    "# best RMSE score\n",
    "print(\"Best RMSE score attained: \", gs.best_score['rmse'])\n",
    "\n",
    "# combination of parameters that gave the best RMSE score\n",
    "print(gs.best_params['rmse'])"
   ]
  },
  {
   "cell_type": "code",
   "execution_count": 8,
   "id": "ee1dca30-5fca-4b32-96f9-75a0f35d0c5d",
   "metadata": {},
   "outputs": [
    {
     "name": "stdout",
     "output_type": "stream",
     "text": [
      "Estimating biases using als...\n",
      "Computing the cosine similarity matrix...\n",
      "Done computing similarity matrix.\n",
      "Evaluating  SVD ...\n",
      "Evaluating accuracy...\n",
      "Analysis complete.\n",
      "Evaluating  SVD++ ...\n",
      "Evaluating accuracy...\n",
      "Analysis complete.\n",
      "Evaluating  Random ...\n",
      "Evaluating accuracy...\n",
      "Analysis complete.\n",
      "Evaluating  SVD - Tuned ...\n",
      "Evaluating accuracy...\n",
      "Analysis complete.\n",
      "Evaluating  SVD - Untuned ...\n",
      "Evaluating accuracy...\n",
      "Analysis complete.\n",
      "Evaluating  Random ...\n",
      "Evaluating accuracy...\n",
      "Analysis complete.\n",
      "\n",
      "\n",
      "Algorithm  RMSE       MAE       \n",
      "SVD        0.9048     0.7010    \n",
      "SVD++      0.8970     0.6900    \n",
      "Random     1.4427     1.1512    \n",
      "SVD - Tuned 0.9019     0.6979    \n",
      "SVD - Untuned 0.9030     0.6993    \n",
      "\n",
      "Legend:\n",
      "\n",
      "RMSE:      Root Mean Squared Error. Lower values mean better accuracy.\n",
      "MAE:       Mean Absolute Error. Lower values mean better accuracy.\n",
      "\n",
      "Using recommender  SVD\n",
      "\n",
      "Building recommendation model...\n",
      "Computing recommendations...\n",
      "\n",
      "We recommend:\n",
      "African Queen, The (1951) 4.770854516835359\n",
      "Lord of the Rings: The Return of the King, The (2003) 4.638142543075613\n",
      "Godfather, The (1972) 4.504155895826656\n",
      "Lord of the Rings: The Fellowship of the Ring, The (2001) 4.502097739458008\n",
      "Seven Samurai (Shichinin no samurai) (1954) 4.485480278997229\n",
      "Butch Cassidy and the Sundance Kid (1969) 4.433675291981523\n",
      "Lord of the Rings: The Two Towers, The (2002) 4.416647893953645\n",
      "Lock, Stock & Two Smoking Barrels (1998) 4.409013100897731\n",
      "It Happened One Night (1934) 4.379342254424493\n",
      "Godfather: Part II, The (1974) 4.363521816740054\n",
      "\n",
      "Using recommender  SVD++\n",
      "\n",
      "Building recommendation model...\n",
      "Computing recommendations...\n",
      "\n",
      "We recommend:\n",
      "Lord of the Rings: The Fellowship of the Ring, The (2001) 4.703082557525876\n",
      "Lord of the Rings: The Two Towers, The (2002) 4.557029405027646\n",
      "Matrix, The (1999) 4.448549575900148\n",
      "Saving Private Ryan (1998) 4.420799225190895\n",
      "Happiness (1998) 4.419495192570996\n",
      "Lord of the Rings: The Return of the King, The (2003) 4.390848177425118\n",
      "Indiana Jones and the Last Crusade (1989) 4.381648051787772\n",
      "Roger & Me (1989) 4.3681423744858785\n",
      "Game, The (1997) 4.361404694469557\n",
      "Back to the Future (1985) 4.35653122249015\n",
      "\n",
      "Using recommender  Random\n",
      "\n",
      "Building recommendation model...\n",
      "Computing recommendations...\n",
      "\n",
      "We recommend:\n",
      "Escape from New York (1981) 5\n",
      "Ben-Hur (1959) 5\n",
      "Willow (1988) 5\n",
      "Mr. Holland's Opus (1995) 5\n",
      "Like Water for Chocolate (Como agua para chocolate) (1992) 5\n",
      "In the Line of Fire (1993) 5\n",
      "Piano, The (1993) 5\n",
      "Sirens (1994) 5\n",
      "James and the Giant Peach (1996) 5\n",
      "Star Wars: Episode VI - Return of the Jedi (1983) 5\n",
      "\n",
      "Using recommender  SVD - Tuned\n",
      "\n",
      "Building recommendation model...\n",
      "Computing recommendations...\n",
      "\n",
      "We recommend:\n",
      "Hamlet (1996) 4.579024741891764\n",
      "Goodfellas (1990) 4.5783057586759615\n",
      "Godfather, The (1972) 4.573359301301673\n",
      "Usual Suspects, The (1995) 4.540223417810292\n",
      "Taxi Driver (1976) 4.539759223268542\n",
      "African Queen, The (1951) 4.536878050414114\n",
      "Amelie (Fabuleux destin d'AmÃ©lie Poulain, Le) (2001) 4.535401806390651\n",
      "Godfather: Part II, The (1974) 4.505877967475581\n",
      "Seven Samurai (Shichinin no samurai) (1954) 4.46246788671877\n",
      "Citizen Kane (1941) 4.428146279755474\n",
      "\n",
      "Using recommender  SVD - Untuned\n",
      "\n",
      "Building recommendation model...\n",
      "Computing recommendations...\n",
      "\n",
      "We recommend:\n",
      "Lord of the Rings: The Return of the King, The (2003) 4.672959059059057\n",
      "Swingers (1996) 4.498116456595321\n",
      "Big Night (1996) 4.484787558901567\n",
      "Star Wars: Episode V - The Empire Strikes Back (1980) 4.468325228985102\n",
      "Godfather, The (1972) 4.436665093805346\n",
      "One Flew Over the Cuckoo's Nest (1975) 4.373657993254771\n",
      "Boot, Das (Boat, The) (1981) 4.362678841029733\n",
      "American History X (1998) 4.356131310930118\n",
      "Lord of the Rings: The Fellowship of the Ring, The (2001) 4.351497664048998\n",
      "Wallace & Gromit: A Close Shave (1995) 4.341312758453946\n",
      "\n",
      "Using recommender  Random\n",
      "\n",
      "Building recommendation model...\n",
      "Computing recommendations...\n",
      "\n",
      "We recommend:\n",
      "Gods Must Be Crazy, The (1980) 5\n",
      "Antz (1998) 5\n",
      "Time Bandits (1981) 5\n",
      "Wolf (1994) 5\n",
      "Bound (1996) 5\n",
      "Fear and Loathing in Las Vegas (1998) 5\n",
      "Spider-Man 2 (2004) 5\n",
      "Godfather, The (1972) 5\n",
      "Herbie Rides Again (1974) 5\n",
      "Fox and the Hound, The (1981) 5\n"
     ]
    }
   ],
   "source": [
    "# Construct an Evaluator to, you know, evaluate them\n",
    "evaluator = Evaluator(evaluationData, rankings)\n",
    "\n",
    "params = gs.best_params['rmse']\n",
    "SVDtuned = SVD(n_epochs = params['n_epochs'], lr_all = params['lr_all'], n_factors = params['n_factors'])\n",
    "evaluator.AddAlgorithm(SVDtuned, \"SVD - Tuned\")\n",
    "\n",
    "SVDUntuned = SVD()\n",
    "evaluator.AddAlgorithm(SVDUntuned, \"SVD - Untuned\")\n",
    "\n",
    "# Just make random recommendations\n",
    "Random = NormalPredictor()\n",
    "evaluator.AddAlgorithm(Random, \"Random\")\n",
    "\n",
    "# Fight!\n",
    "evaluator.Evaluate(False)\n",
    "\n",
    "evaluator.SampleTopNRecs(ml)"
   ]
  }
 ],
 "metadata": {
  "kernelspec": {
   "display_name": "Python 3 (ipykernel)",
   "language": "python",
   "name": "python3"
  },
  "language_info": {
   "codemirror_mode": {
    "name": "ipython",
    "version": 3
   },
   "file_extension": ".py",
   "mimetype": "text/x-python",
   "name": "python",
   "nbconvert_exporter": "python",
   "pygments_lexer": "ipython3",
   "version": "3.7.9"
  }
 },
 "nbformat": 4,
 "nbformat_minor": 5
}
