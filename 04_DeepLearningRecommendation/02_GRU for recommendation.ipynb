{
 "cells": [
  {
   "cell_type": "markdown",
   "id": "50d97eb7-9135-40c5-b8e3-665707bdfbe9",
   "metadata": {},
   "source": [
    "# GRU for recommendation\n",
    "TensorFlow implementation of *GRU for recommendation*, which was descibed in \"Session-based Recommendations With Recurrent Neural Networks\". See paper: http://arxiv.org/abs/1511.06939.\n",
    "\n",
    "Another example: Recommending movies: retrieval using a sequential model (https://www.tensorflow.org/recommenders/examples/sequential_retrieval)\n",
    "\n",
    "# Requirements\n",
    "Python: 2.7\n",
    "\n",
    "Pandas < 0.17 \n",
    "\n",
    "Numpy 1.12.1 or later\n",
    "\n",
    "TensorFlow: 0.12.1\n",
    "\n",
    "# Usage\n",
    "Train/Test file should consists of three columns:   \n",
    "\n",
    "     First column: SessionId  \n",
    "     Second column: ItemId  \n",
    "     Third column: Timestamps\n",
    "\n",
    "To train a model with default parameter settings:\n",
    "\n",
    "    $ python main.py    \n",
    "\n",
    "    Other optional parameters include:   \n",
    "     --layer: Number of GRU layers. Default is 1.  \n",
    "     --size: Number of hidden units in GRU model. Default is 100.   \n",
    "     --epoch: Runing epochs. Default is 3.   \n",
    "     --lr : Initial learning rate. Default is 0.001.   \n",
    "     --train: Specify whether training(1) or evaluating(0). Default is 1.   \n",
    "     --hidden_act: Activation function used in GRU units. Default is tanh.   \n",
    "     --final_act: Final activation function. Default is softmax.    \n",
    "     --loss: Loss functions, cross-entropy, bpr or top1 loss. Default is cross-entropy.      \n",
    "     --dropout: Dropout rate. Default is 0.5.\n",
    "\n",
    "To evaluate a trained model:\n",
    "\n",
    "    $ python main.py --train 0\n",
    "    \n",
    "    One optional parameter is:    \n",
    "     --test: Specify which saved model to evaluate(only used when --train is 0). Default is 2.\n",
    "\n",
    "# Acknowledgement\n",
    "This repository refers a lot to the original [Theano implementation](https://github.com/hidasib/GRU4Rec).\n",
    "\n"
   ]
  },
  {
   "cell_type": "markdown",
   "id": "d64a7f8c-d4be-4edd-97cc-024f0eb5b343",
   "metadata": {},
   "source": [
    "# train GRU"
   ]
  },
  {
   "cell_type": "code",
   "execution_count": 6,
   "id": "4bbffb85-cff9-4abe-b570-f6fffda04a2f",
   "metadata": {},
   "outputs": [
    {
     "name": "stdout",
     "output_type": "stream",
     "text": [
      "WARNING:tensorflow:From /Users/user/miniconda3/envs/RecSys/lib/python3.9/site-packages/tensorflow/python/compat/v2_compat.py:101: disable_resource_variables (from tensorflow.python.ops.variable_scope) is deprecated and will be removed in a future version.\n",
      "Instructions for updating:\n",
      "non-resource variables are not supported in the long term\n",
      "0.5\n",
      "2021-10-24 14:18:46.511741: I tensorflow/core/platform/cpu_feature_guard.cc:142] This TensorFlow binary is optimized with oneAPI Deep Neural Network Library (oneDNN) to use the following CPU instructions in performance-critical operations:  AVX2 FMA\n",
      "To enable them in other operations, rebuild TensorFlow with the appropriate compiler flags.\n",
      "/Users/user/miniconda3/envs/RecSys/lib/python3.9/site-packages/tensorflow/python/keras/layers/legacy_rnn/rnn_cell_impl.py:540: UserWarning: `tf.nn.rnn_cell.GRUCell` is deprecated and will be removed in a future version. This class is equivalent as `tf.keras.layers.GRUCell`, and will be replaced by that in Tensorflow 2.0.\n",
      "  warnings.warn(\"`tf.nn.rnn_cell.GRUCell` is deprecated and will be removed \"\n",
      "WARNING:tensorflow:`tf.nn.rnn_cell.MultiRNNCell` is deprecated. This class is equivalent as `tf.keras.layers.StackedRNNCells`, and will be replaced by that in Tensorflow 2.0.\n",
      "/Users/user/miniconda3/envs/RecSys/lib/python3.9/site-packages/tensorflow/python/keras/engine/base_layer_v1.py:1702: UserWarning: `layer.add_variable` is deprecated and will be removed in a future version. Please use `layer.add_weight` method instead.\n",
      "  warnings.warn('`layer.add_variable` is deprecated and '\n",
      "WARNING:tensorflow:From /Users/user/miniconda3/envs/RecSys/lib/python3.9/site-packages/tensorflow/python/keras/layers/legacy_rnn/rnn_cell_impl.py:588: calling Constant.__init__ (from tensorflow.python.ops.init_ops) with dtype is deprecated and will be removed in a future version.\n",
      "Instructions for updating:\n",
      "Call initializer instance with the dtype argument instead of passing it to the constructor\n",
      "WARNING:tensorflow:From /Users/user/miniconda3/envs/RecSys/lib/python3.9/site-packages/tensorflow/python/keras/layers/legacy_rnn/rnn_cell_impl.py:598: calling Zeros.__init__ (from tensorflow.python.ops.init_ops) with dtype is deprecated and will be removed in a future version.\n",
      "Instructions for updating:\n",
      "Call initializer instance with the dtype argument instead of passing it to the constructor\n",
      "fitting model...\n",
      "Epoch 0\tStep 1\tlr: 0.001000\tloss: 3.911900\n"
     ]
    }
   ],
   "source": [
    "!python main.py"
   ]
  },
  {
   "cell_type": "markdown",
   "id": "9b705b90-075b-4e58-9e6d-25615e718f78",
   "metadata": {},
   "source": [
    "# evaluate GRU"
   ]
  },
  {
   "cell_type": "code",
   "execution_count": 8,
   "id": "1f6b04f0-66e2-46ab-a747-a7d07806baab",
   "metadata": {},
   "outputs": [
    {
     "name": "stdout",
     "output_type": "stream",
     "text": [
      "WARNING:tensorflow:From /Users/user/miniconda3/envs/RecSys/lib/python3.9/site-packages/tensorflow/python/compat/v2_compat.py:101: disable_resource_variables (from tensorflow.python.ops.variable_scope) is deprecated and will be removed in a future version.\n",
      "Instructions for updating:\n",
      "non-resource variables are not supported in the long term\n",
      "1.0\n",
      "2021-10-24 14:22:16.753543: I tensorflow/core/platform/cpu_feature_guard.cc:142] This TensorFlow binary is optimized with oneAPI Deep Neural Network Library (oneDNN) to use the following CPU instructions in performance-critical operations:  AVX2 FMA\n",
      "To enable them in other operations, rebuild TensorFlow with the appropriate compiler flags.\n",
      "/Users/user/miniconda3/envs/RecSys/lib/python3.9/site-packages/tensorflow/python/keras/layers/legacy_rnn/rnn_cell_impl.py:540: UserWarning: `tf.nn.rnn_cell.GRUCell` is deprecated and will be removed in a future version. This class is equivalent as `tf.keras.layers.GRUCell`, and will be replaced by that in Tensorflow 2.0.\n",
      "  warnings.warn(\"`tf.nn.rnn_cell.GRUCell` is deprecated and will be removed \"\n",
      "WARNING:tensorflow:`tf.nn.rnn_cell.MultiRNNCell` is deprecated. This class is equivalent as `tf.keras.layers.StackedRNNCells`, and will be replaced by that in Tensorflow 2.0.\n",
      "/Users/user/miniconda3/envs/RecSys/lib/python3.9/site-packages/tensorflow/python/keras/engine/base_layer_v1.py:1702: UserWarning: `layer.add_variable` is deprecated and will be removed in a future version. Please use `layer.add_weight` method instead.\n",
      "  warnings.warn('`layer.add_variable` is deprecated and '\n",
      "WARNING:tensorflow:From /Users/user/miniconda3/envs/RecSys/lib/python3.9/site-packages/tensorflow/python/keras/layers/legacy_rnn/rnn_cell_impl.py:588: calling Constant.__init__ (from tensorflow.python.ops.init_ops) with dtype is deprecated and will be removed in a future version.\n",
      "Instructions for updating:\n",
      "Call initializer instance with the dtype argument instead of passing it to the constructor\n",
      "WARNING:tensorflow:From /Users/user/miniconda3/envs/RecSys/lib/python3.9/site-packages/tensorflow/python/keras/layers/legacy_rnn/rnn_cell_impl.py:598: calling Zeros.__init__ (from tensorflow.python.ops.init_ops) with dtype is deprecated and will be removed in a future version.\n",
      "Instructions for updating:\n",
      "Call initializer instance with the dtype argument instead of passing it to the constructor\n",
      "Testing\n",
      "Recall@20: 0.12485039651913246\tMRR@20: 0.032602368327005596\n"
     ]
    }
   ],
   "source": [
    "!python main.py --train 0"
   ]
  }
 ],
 "metadata": {
  "kernelspec": {
   "display_name": "Python 3 (ipykernel)",
   "language": "python",
   "name": "python3"
  },
  "language_info": {
   "codemirror_mode": {
    "name": "ipython",
    "version": 3
   },
   "file_extension": ".py",
   "mimetype": "text/x-python",
   "name": "python",
   "nbconvert_exporter": "python",
   "pygments_lexer": "ipython3",
   "version": "3.7.9"
  }
 },
 "nbformat": 4,
 "nbformat_minor": 5
}
