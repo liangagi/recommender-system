{
 "cells": [
  {
   "cell_type": "markdown",
   "id": "4a578bd7-0b9a-4442-baef-94322918fdf5",
   "metadata": {},
   "source": [
    "# Spark Matrix Factorization with ALS"
   ]
  },
  {
   "cell_type": "markdown",
   "id": "b89dc55e-2c55-4ad7-9bbc-27968e232307",
   "metadata": {},
   "source": [
    "## load package"
   ]
  },
  {
   "cell_type": "code",
   "execution_count": 1,
   "id": "1339b12a-201d-489a-9088-913921ac9eb0",
   "metadata": {},
   "outputs": [],
   "source": [
    "import csv\n",
    "\n",
    "from pyspark.sql import SparkSession, Row\n",
    "from pyspark.ml.evaluation import RegressionEvaluator\n",
    "from pyspark.ml.recommendation import ALS\n",
    "from pyspark import SparkContext, SparkConf\n",
    "\n",
    "from utils.MovieLens import MovieLens"
   ]
  },
  {
   "cell_type": "markdown",
   "id": "14e9e5c7-de2c-44b2-8554-369f320fdb80",
   "metadata": {},
   "source": [
    "## read MovieLens data"
   ]
  },
  {
   "cell_type": "code",
   "execution_count": 2,
   "id": "1f2b280f-4478-4eb5-927a-6ffa63343812",
   "metadata": {},
   "outputs": [
    {
     "name": "stderr",
     "output_type": "stream",
     "text": [
      "WARNING: An illegal reflective access operation has occurred\n",
      "WARNING: Illegal reflective access by org.apache.spark.unsafe.Platform (file:/home/liang/venv/RecSys/lib/python3.7/site-packages/pyspark/jars/spark-unsafe_2.12-3.2.0.jar) to constructor java.nio.DirectByteBuffer(long,int)\n",
      "WARNING: Please consider reporting this to the maintainers of org.apache.spark.unsafe.Platform\n",
      "WARNING: Use --illegal-access=warn to enable warnings of further illegal reflective access operations\n",
      "WARNING: All illegal access operations will be denied in a future release\n",
      "Using Spark's default log4j profile: org/apache/spark/log4j-defaults.properties\n",
      "Setting default log level to \"WARN\".\n",
      "To adjust logging level use sc.setLogLevel(newLevel). For SparkR, use setLogLevel(newLevel).\n",
      "21/10/24 14:17:54 WARN NativeCodeLoader: Unable to load native-hadoop library for your platform... using builtin-java classes where applicable\n"
     ]
    }
   ],
   "source": [
    "spark = SparkSession\\\n",
    "        .builder\\\n",
    "        .appName(\"ALSExample\")\\\n",
    "        .getOrCreate()"
   ]
  },
  {
   "cell_type": "code",
   "execution_count": 3,
   "id": "1bfa595a-5d2a-4ce3-a868-7b99caa0bd18",
   "metadata": {},
   "outputs": [
    {
     "name": "stderr",
     "output_type": "stream",
     "text": [
      "                                                                                \r"
     ]
    }
   ],
   "source": [
    "lines = spark.read.option(\"header\", \"true\").csv(\"../ml-latest-small/ratings.csv\").rdd\n",
    "ratingsRDD = lines.map(lambda p: Row(userId=int(p[0]), movieId=int(p[1]),\n",
    "                                         rating=float(p[2]), timestamp=int(p[3])))\n",
    "\n",
    "ratings = spark.createDataFrame(ratingsRDD)"
   ]
  },
  {
   "cell_type": "markdown",
   "id": "e248f190-cdbd-4579-9f21-5db5a704518b",
   "metadata": {},
   "source": [
    "## model training"
   ]
  },
  {
   "cell_type": "code",
   "execution_count": 5,
   "id": "dfe3f129-4016-4b44-9a7f-82d0b9f8ab63",
   "metadata": {},
   "outputs": [
    {
     "name": "stderr",
     "output_type": "stream",
     "text": [
      "21/10/24 14:30:02 WARN InstanceBuilder$NativeBLAS: Failed to load implementation from:dev.ludovic.netlib.blas.JNIBLAS\n",
      "21/10/24 14:30:02 WARN InstanceBuilder$NativeBLAS: Failed to load implementation from:dev.ludovic.netlib.blas.ForeignLinkerBLAS\n",
      "21/10/24 14:30:03 WARN InstanceBuilder$NativeLAPACK: Failed to load implementation from:dev.ludovic.netlib.lapack.JNILAPACK\n"
     ]
    }
   ],
   "source": [
    "(training, test) = ratings.randomSplit([0.8, 0.2])\n",
    "\n",
    "als = ALS(maxIter=5, regParam=0.01, userCol=\"userId\", itemCol=\"movieId\", ratingCol=\"rating\",\n",
    "              coldStartStrategy=\"drop\")\n",
    "model = als.fit(training)"
   ]
  },
  {
   "cell_type": "markdown",
   "id": "23a0082b-f791-468d-bc19-8dce3a6bb0d1",
   "metadata": {},
   "source": [
    "## prediction"
   ]
  },
  {
   "cell_type": "code",
   "execution_count": 6,
   "id": "56f868fd-1ec1-4967-ba38-9d774fc5e029",
   "metadata": {},
   "outputs": [
    {
     "name": "stdout",
     "output_type": "stream",
     "text": [
      "Root-mean-square error = 1.1096010378963432\n"
     ]
    }
   ],
   "source": [
    "predictions = model.transform(test)\n",
    "\n",
    "evaluator = RegressionEvaluator(metricName=\"rmse\", labelCol=\"rating\",\n",
    "                                    predictionCol=\"prediction\")\n",
    "rmse = evaluator.evaluate(predictions)\n",
    "print(\"Root-mean-square error = \" + str(rmse))"
   ]
  },
  {
   "cell_type": "markdown",
   "id": "432d260b-ef31-4f04-bc7e-2cb273cccb70",
   "metadata": {},
   "source": [
    "## top-N recommendation"
   ]
  },
  {
   "cell_type": "code",
   "execution_count": null,
   "id": "af0718b6-5821-4b5d-b8bb-26b381ab6f61",
   "metadata": {},
   "outputs": [],
   "source": [
    "userRecs = model.recommendForAllUsers(10)\n",
    "    \n",
    "user85Recs = userRecs.filter(userRecs['userId'] == 85).collect()\n",
    "    \n",
    "spark.stop()"
   ]
  },
  {
   "cell_type": "code",
   "execution_count": 8,
   "id": "71ae4b48-3c59-4ab9-96a2-34c749f3f47d",
   "metadata": {},
   "outputs": [
    {
     "name": "stdout",
     "output_type": "stream",
     "text": [
      "One Crazy Summer (1986)\n",
      "Man with Two Brains, The (1983)\n",
      "Go Fish (1994)\n",
      "...And Justice for All (1979)\n",
      "Celebrity (1998)\n",
      "Match Point (2005)\n",
      "Frida (2002)\n",
      "Clerks II (2006)\n",
      "Transformers: The Movie (1986)\n",
      "Opposite of Sex, The (1998)\n"
     ]
    }
   ],
   "source": [
    "## get movie name\n",
    "ml = MovieLens()\n",
    "ml.loadMovieLensLatestSmall()\n",
    "        \n",
    "for row in user85Recs:\n",
    "    for rec in row.recommendations:\n",
    "        print(ml.getMovieName(rec.movieId))"
   ]
  },
  {
   "cell_type": "markdown",
   "id": "c6d3ee1f-8044-4ab6-b608-0472a80dd62b",
   "metadata": {},
   "source": [
    "## try larger dataset to test scale up"
   ]
  },
  {
   "cell_type": "code",
   "execution_count": 2,
   "id": "5608c9da-7429-4dc5-9a2a-5de5fbe0e2c5",
   "metadata": {},
   "outputs": [],
   "source": [
    "def loadMovieNames():\n",
    "    movieID_to_name = {}\n",
    "    with open(\"../ml-20m/movies.csv\", newline='', encoding='ISO-8859-1') as csvfile:\n",
    "        movieReader = csv.reader(csvfile)\n",
    "        next(movieReader)  #Skip header line\n",
    "        for row in movieReader:\n",
    "            movieID = int(row[0])\n",
    "            movieName = row[1]\n",
    "            movieID_to_name[movieID] = movieName\n",
    "    return movieID_to_name"
   ]
  },
  {
   "cell_type": "code",
   "execution_count": 3,
   "id": "c1e30c37-6b15-4e6e-9487-94d9804331b1",
   "metadata": {},
   "outputs": [
    {
     "name": "stderr",
     "output_type": "stream",
     "text": [
      "WARNING: An illegal reflective access operation has occurred\n",
      "WARNING: Illegal reflective access by org.apache.spark.unsafe.Platform (file:/home/liang/venv/RecSys/lib/python3.7/site-packages/pyspark/jars/spark-unsafe_2.12-3.2.0.jar) to constructor java.nio.DirectByteBuffer(long,int)\n",
      "WARNING: Please consider reporting this to the maintainers of org.apache.spark.unsafe.Platform\n",
      "WARNING: Use --illegal-access=warn to enable warnings of further illegal reflective access operations\n",
      "WARNING: All illegal access operations will be denied in a future release\n",
      "Using Spark's default log4j profile: org/apache/spark/log4j-defaults.properties\n",
      "Setting default log level to \"WARN\".\n",
      "To adjust logging level use sc.setLogLevel(newLevel). For SparkR, use setLogLevel(newLevel).\n",
      "21/10/24 14:30:45 WARN NativeCodeLoader: Unable to load native-hadoop library for your platform... using builtin-java classes where applicable\n"
     ]
    }
   ],
   "source": [
    "spark = SparkSession\\\n",
    "        .builder\\\n",
    "        .appName(\"ALSExample\")\\\n",
    "        .config(\"spark.executor.cores\", '4')\\\n",
    "        .config(\"spark.driver.memory\", \"64G\")\\\n",
    "        .config(\"spark.executor.memory\", \"64G\")\\\n",
    "        .getOrCreate()"
   ]
  },
  {
   "cell_type": "code",
   "execution_count": 4,
   "id": "dc7112a0-82cf-47d5-9c71-f097ce203aaf",
   "metadata": {},
   "outputs": [],
   "source": [
    "lines = spark.read.option(\"header\", \"true\").csv(\"../ml-20m/ratings.csv\").rdd\n",
    "ratingsRDD = lines.map(lambda p: Row(userId=int(p[0]), movieId=int(p[1]),\n",
    "                                         rating=float(p[2]), timestamp=int(p[3])))\n",
    "ratings = spark.createDataFrame(ratingsRDD)"
   ]
  },
  {
   "cell_type": "code",
   "execution_count": 5,
   "id": "68eeb83f-df18-4342-9bb3-2f7cd2125ac4",
   "metadata": {},
   "outputs": [
    {
     "name": "stderr",
     "output_type": "stream",
     "text": [
      "                                                                                \r"
     ]
    }
   ],
   "source": [
    "(training, test) = ratings.randomSplit([0.8, 0.2])\n",
    "\n",
    "als = ALS(maxIter=5, regParam=0.01, userCol=\"userId\", itemCol=\"movieId\", ratingCol=\"rating\",\n",
    "              coldStartStrategy=\"drop\")\n",
    "model = als.fit(training)"
   ]
  },
  {
   "cell_type": "code",
   "execution_count": 6,
   "id": "124de973-e043-47ae-8220-4503e1b7d501",
   "metadata": {},
   "outputs": [
    {
     "name": "stderr",
     "output_type": "stream",
     "text": [
      "[Stage 81:====================================================>   (32 + 2) / 34]\r"
     ]
    },
    {
     "name": "stdout",
     "output_type": "stream",
     "text": [
      "Root-mean-square error = 0.8163785791796362\n"
     ]
    },
    {
     "name": "stderr",
     "output_type": "stream",
     "text": [
      "                                                                                \r"
     ]
    }
   ],
   "source": [
    "predictions = model.transform(test)\n",
    "evaluator = RegressionEvaluator(metricName=\"rmse\", labelCol=\"rating\",\n",
    "                                    predictionCol=\"prediction\")\n",
    "rmse = evaluator.evaluate(predictions)\n",
    "print(\"Root-mean-square error = \" + str(rmse))"
   ]
  },
  {
   "cell_type": "code",
   "execution_count": 7,
   "id": "42f36208-6a03-43c4-9509-b17c084841ed",
   "metadata": {},
   "outputs": [
    {
     "name": "stderr",
     "output_type": "stream",
     "text": [
      "/home/liang/venv/RecSys/lib/python3.7/site-packages/pyspark/sql/context.py:127: FutureWarning: Deprecated in 3.0.0. Use SparkSession.builder.getOrCreate() instead.\n",
      "  FutureWarning\n",
      "                                                                                \r"
     ]
    }
   ],
   "source": [
    "userRecs = model.recommendForAllUsers(10)\n",
    "    \n",
    "user85Recs = userRecs.filter(userRecs['userId'] == 85).collect()\n",
    "    \n",
    "spark.stop()"
   ]
  },
  {
   "cell_type": "code",
   "execution_count": 8,
   "id": "3ad7ccfe-ee44-47f4-8e1a-0ed864e330b4",
   "metadata": {},
   "outputs": [
    {
     "name": "stdout",
     "output_type": "stream",
     "text": [
      "Violence at Noon (Hakuchu no torima) (1966)\n",
      "Bo Burnham: what. (2013)\n",
      "World According to Monsanto, The (monde selon Monsanto, Le) (2008)\n",
      "Chhoti Si Baat (1975)\n",
      "Godâs Wedding (As Bodas de Deus) (1999)\n",
      "White Mane (Crin blanc: Le cheval sauvage) (1953)\n",
      "On Top of the Whale (Het dak van de Walvis) (1982)\n",
      "Hamoun (1990)\n",
      "Class Trip, The (La classe de neige) (1998)\n",
      "Wedding March, The (1928)\n"
     ]
    }
   ],
   "source": [
    "movieID_to_name = loadMovieNames()\n",
    "        \n",
    "for row in user85Recs:\n",
    "    for rec in row.recommendations:\n",
    "        if rec.movieId in movieID_to_name:\n",
    "            print(movieID_to_name[rec.movieId])"
   ]
  }
 ],
 "metadata": {
  "kernelspec": {
   "display_name": "Python 3 (ipykernel)",
   "language": "python",
   "name": "python3"
  },
  "language_info": {
   "codemirror_mode": {
    "name": "ipython",
    "version": 3
   },
   "file_extension": ".py",
   "mimetype": "text/x-python",
   "name": "python",
   "nbconvert_exporter": "python",
   "pygments_lexer": "ipython3",
   "version": "3.7.9"
  }
 },
 "nbformat": 4,
 "nbformat_minor": 5
}
