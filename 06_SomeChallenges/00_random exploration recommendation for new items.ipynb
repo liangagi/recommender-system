{
 "cells": [
  {
   "cell_type": "markdown",
   "id": "963f6461-9df4-436c-8619-fa6170a418ce",
   "metadata": {},
   "source": [
    "# random exploration recommendation for new items\n",
    "Take User based CF for example"
   ]
  },
  {
   "cell_type": "markdown",
   "id": "3ab17edd-68be-4d58-a28f-61dc9ee79b5a",
   "metadata": {},
   "source": [
    "## load package"
   ]
  },
  {
   "cell_type": "code",
   "execution_count": 1,
   "id": "90bdd1ff-2337-4a5a-a632-ec5bc85788a7",
   "metadata": {},
   "outputs": [],
   "source": [
    "import heapq\n",
    "import random\n",
    "from collections import defaultdict\n",
    "from operator import itemgetter\n",
    "\n",
    "from surprise import KNNBasic\n",
    "\n",
    "from utils.MovieLens2 import MovieLens\n",
    "from utils.RecommenderMetrics import RecommenderMetrics\n",
    "from utils.EvaluationData import EvaluationData"
   ]
  },
  {
   "cell_type": "code",
   "execution_count": 2,
   "id": "74f2ba1d-7887-427c-834f-87cfcbe17825",
   "metadata": {},
   "outputs": [],
   "source": [
    "def LoadMovieLensData():\n",
    "    ml = MovieLens()\n",
    "    print(\"Loading movie ratings...\")\n",
    "    data = ml.loadMovieLensLatestSmall()\n",
    "    print(\"\\nComputing movie popularity ranks so we can measure novelty later...\")\n",
    "    rankings = ml.getPopularityRanks()\n",
    "    return (ml, data, rankings)"
   ]
  },
  {
   "cell_type": "markdown",
   "id": "552b22ab-cbd9-49b9-897c-059f8dbad227",
   "metadata": {},
   "source": [
    "## read data"
   ]
  },
  {
   "cell_type": "code",
   "execution_count": 3,
   "id": "b6873a16-edaf-4f77-af8e-53616b9742d2",
   "metadata": {},
   "outputs": [
    {
     "name": "stdout",
     "output_type": "stream",
     "text": [
      "Loading movie ratings...\n",
      "\n",
      "Computing movie popularity ranks so we can measure novelty later...\n",
      "Estimating biases using als...\n",
      "Computing the cosine similarity matrix...\n",
      "Done computing similarity matrix.\n"
     ]
    }
   ],
   "source": [
    "ml, data, rankings = LoadMovieLensData()\n",
    "\n",
    "evalData = EvaluationData(data, rankings)"
   ]
  },
  {
   "cell_type": "markdown",
   "id": "ecefee41-3a09-46ab-a0c0-553b4558e0aa",
   "metadata": {},
   "source": [
    "## user based CF with KNN"
   ]
  },
  {
   "cell_type": "code",
   "execution_count": 4,
   "id": "eb83dcbb-f6bc-4f01-8726-1138eecda1b5",
   "metadata": {},
   "outputs": [
    {
     "name": "stdout",
     "output_type": "stream",
     "text": [
      "Computing the cosine similarity matrix...\n",
      "Done computing similarity matrix.\n",
      "Computing the cosine similarity matrix...\n",
      "Done computing similarity matrix.\n"
     ]
    }
   ],
   "source": [
    "# Train on leave-One-Out train set\n",
    "trainSet = evalData.GetLOOCVTrainSet()\n",
    "sim_options = {'name': 'cosine',\n",
    "               'user_based': True\n",
    "               }\n",
    "\n",
    "model = KNNBasic(sim_options=sim_options)\n",
    "model.fit(trainSet)\n",
    "simsMatrix = model.compute_similarities()\n",
    "\n",
    "leftOutTestSet = evalData.GetLOOCVTestSet()"
   ]
  },
  {
   "cell_type": "markdown",
   "id": "9acf2fb4-fa5b-4ab7-b782-505a71da9a6a",
   "metadata": {},
   "source": [
    "## get new items and recommend"
   ]
  },
  {
   "cell_type": "code",
   "execution_count": 5,
   "id": "d9cb68cc-fb0d-43a0-9a59-b85daf8dab92",
   "metadata": {},
   "outputs": [
    {
     "name": "stdout",
     "output_type": "stream",
     "text": [
      "Newest year is  2016\n"
     ]
    }
   ],
   "source": [
    "# Get new movies that need data\n",
    "newMovies = ml.getNewMovies()\n",
    "explorationSlot = 9"
   ]
  },
  {
   "cell_type": "code",
   "execution_count": 6,
   "id": "29218f13-ac53-41e0-a22a-cd09fbe2f4d4",
   "metadata": {},
   "outputs": [
    {
     "name": "stdout",
     "output_type": "stream",
     "text": [
      "HR 0.05216095380029806\n"
     ]
    }
   ],
   "source": [
    "# Build up dict to lists of (int(movieID), predictedrating) pairs\n",
    "topN = defaultdict(list)\n",
    "k = 10\n",
    "for uiid in range(trainSet.n_users):\n",
    "    # Get top N similar users to this one\n",
    "    similarityRow = simsMatrix[uiid]\n",
    "    \n",
    "    similarUsers = []\n",
    "    for innerID, score in enumerate(similarityRow):\n",
    "        if (innerID != uiid):\n",
    "            similarUsers.append( (innerID, score) )\n",
    "    \n",
    "    kNeighbors = heapq.nlargest(k, similarUsers, key=lambda t: t[1])\n",
    "    \n",
    "    # Get the stuff they rated, and add up ratings for each item, weighted by user similarity\n",
    "    candidates = defaultdict(float)\n",
    "    for similarUser in kNeighbors:\n",
    "        innerID = similarUser[0]\n",
    "        userSimilarityScore = similarUser[1]\n",
    "        theirRatings = trainSet.ur[innerID]\n",
    "        for rating in theirRatings:\n",
    "            candidates[rating[0]] += (rating[1] / 5.0) * userSimilarityScore\n",
    "        \n",
    "    # Build a dictionary of stuff the user has already seen\n",
    "    watched = {}\n",
    "    for itemID, rating in trainSet.ur[uiid]:\n",
    "        watched[itemID] = 1\n",
    "        \n",
    "    # Get top-rated items from similar users:\n",
    "    pos = 0\n",
    "    for itemID, ratingSum in sorted(candidates.items(), key=itemgetter(1), reverse=True):\n",
    "        if not itemID in watched:\n",
    "            movieID = 0\n",
    "            if (pos == explorationSlot):\n",
    "                movieID = random.choice(newMovies) # random exploration for new items\n",
    "            else:\n",
    "                movieID = trainSet.to_raw_iid(itemID)\n",
    "            topN[int(trainSet.to_raw_uid(uiid))].append( (int(movieID), 0.0) )\n",
    "            pos += 1\n",
    "            if (pos > 40):\n",
    "                break\n",
    "    \n",
    "# Measure\n",
    "print(\"HR\", RecommenderMetrics.HitRate(topN, leftOutTestSet))"
   ]
  }
 ],
 "metadata": {
  "kernelspec": {
   "display_name": "Python 3 (ipykernel)",
   "language": "python",
   "name": "python3"
  },
  "language_info": {
   "codemirror_mode": {
    "name": "ipython",
    "version": 3
   },
   "file_extension": ".py",
   "mimetype": "text/x-python",
   "name": "python",
   "nbconvert_exporter": "python",
   "pygments_lexer": "ipython3",
   "version": "3.7.9"
  }
 },
 "nbformat": 4,
 "nbformat_minor": 5
}
