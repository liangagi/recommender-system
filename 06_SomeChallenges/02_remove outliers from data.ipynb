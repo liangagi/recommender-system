{
 "cells": [
  {
   "cell_type": "markdown",
   "id": "46fc735c-855d-4e61-91cf-9371aad4b52a",
   "metadata": {},
   "source": [
    "# remove outliers from data and recommendation\n",
    "Take User based CF for example"
   ]
  },
  {
   "cell_type": "markdown",
   "id": "98c8edf8-4fac-4d8b-a726-ca4f1fe5a2fc",
   "metadata": {},
   "source": [
    "## load package"
   ]
  },
  {
   "cell_type": "code",
   "execution_count": 1,
   "id": "32109a9b-54f0-4828-b77a-3c2ad0471a97",
   "metadata": {},
   "outputs": [],
   "source": [
    "import heapq\n",
    "from collections import defaultdict\n",
    "from operator import itemgetter\n",
    "\n",
    "from surprise import KNNBasic\n",
    "\n",
    "from utils.MovieLens3 import MovieLens\n",
    "from utils.RecommenderMetrics import RecommenderMetrics\n",
    "from utils.EvaluationData import EvaluationData"
   ]
  },
  {
   "cell_type": "code",
   "execution_count": 2,
   "id": "12c654bc-b590-45e5-9204-78a9050adc4c",
   "metadata": {},
   "outputs": [],
   "source": [
    "def LoadMovieLensData():\n",
    "    ml = MovieLens()\n",
    "    print(\"Loading movie ratings...\")\n",
    "    data = ml.loadMovieLensLatestSmall()\n",
    "    print(\"\\nComputing movie popularity ranks so we can measure novelty later...\")\n",
    "    rankings = ml.getPopularityRanks()\n",
    "    return (ml, data, rankings)"
   ]
  },
  {
   "cell_type": "markdown",
   "id": "0c328fe8-8ffb-4160-883e-06d6d3eae9cc",
   "metadata": {},
   "source": [
    "## read data"
   ]
  },
  {
   "cell_type": "code",
   "execution_count": 3,
   "id": "ecf23ac1-68ad-43d8-865f-b14b455c92f0",
   "metadata": {},
   "outputs": [
    {
     "name": "stdout",
     "output_type": "stream",
     "text": [
      "Loading movie ratings...\n",
      "Raw ratings data:\n",
      "   userId  movieId  rating   timestamp\n",
      "0       1       31     2.5  1260759144\n",
      "1       1     1029     3.0  1260759179\n",
      "2       1     1061     3.0  1260759182\n",
      "3       1     1129     2.0  1260759185\n",
      "4       1     1172     4.0  1260759205\n",
      "(100004, 4)\n",
      "Ratings by user:\n",
      "   userId  rating\n",
      "0       1      20\n",
      "1       2      76\n",
      "2       3      51\n",
      "3       4     204\n",
      "4       5     100\n",
      "Users with outliers computed:\n",
      "   userId  outlier\n",
      "0       1    False\n",
      "1       2    False\n",
      "2       3    False\n",
      "3       4    False\n",
      "4       5    False\n",
      "Merged dataframes:\n",
      "   userId  movieId  rating   timestamp  outlier\n",
      "0       1       31     2.5  1260759144    False\n",
      "1       1     1029     3.0  1260759179    False\n",
      "2       1     1061     3.0  1260759182    False\n",
      "3       1     1129     2.0  1260759185    False\n",
      "4       1     1172     4.0  1260759205    False\n",
      "Filtered ratings data:\n",
      "   userId  movieId  rating\n",
      "0       1       31     2.5\n",
      "1       1     1029     3.0\n",
      "2       1     1061     3.0\n",
      "3       1     1129     2.0\n",
      "4       1     1172     4.0\n",
      "(80398, 3)\n",
      "\n",
      "Computing movie popularity ranks so we can measure novelty later...\n",
      "Estimating biases using als...\n",
      "Computing the cosine similarity matrix...\n",
      "Done computing similarity matrix.\n"
     ]
    }
   ],
   "source": [
    "ml, data, rankings = LoadMovieLensData()\n",
    "\n",
    "evalData = EvaluationData(data, rankings)"
   ]
  },
  {
   "cell_type": "markdown",
   "id": "2ec544de-dbe5-4374-a8f3-77008087fdbe",
   "metadata": {},
   "source": [
    "## user based CF with KNN"
   ]
  },
  {
   "cell_type": "code",
   "execution_count": 4,
   "id": "be1439e3-8184-4fde-ad26-c32bd3cf6f66",
   "metadata": {},
   "outputs": [
    {
     "name": "stdout",
     "output_type": "stream",
     "text": [
      "Computing the cosine similarity matrix...\n",
      "Done computing similarity matrix.\n",
      "Computing the cosine similarity matrix...\n",
      "Done computing similarity matrix.\n"
     ]
    }
   ],
   "source": [
    "# Train on leave-One-Out train set\n",
    "trainSet = evalData.GetLOOCVTrainSet()\n",
    "sim_options = {'name': 'cosine',\n",
    "               'user_based': True\n",
    "               }\n",
    "\n",
    "model = KNNBasic(sim_options=sim_options)\n",
    "model.fit(trainSet)\n",
    "simsMatrix = model.compute_similarities()\n",
    "\n",
    "leftOutTestSet = evalData.GetLOOCVTestSet()"
   ]
  },
  {
   "cell_type": "code",
   "execution_count": 5,
   "id": "b913c9b3-86c0-413b-85f4-b8cc1fbd6d1f",
   "metadata": {},
   "outputs": [],
   "source": [
    "# Build up dict to lists of (int(movieID), predictedrating) pairs\n",
    "topN = defaultdict(list)\n",
    "k = 10\n",
    "for uiid in range(trainSet.n_users):\n",
    "    # Get top N similar users to this one\n",
    "    similarityRow = simsMatrix[uiid]\n",
    "    \n",
    "    similarUsers = []\n",
    "    for innerID, score in enumerate(similarityRow):\n",
    "        if (innerID != uiid):\n",
    "            similarUsers.append( (innerID, score) )\n",
    "    \n",
    "    kNeighbors = heapq.nlargest(k, similarUsers, key=lambda t: t[1])\n",
    "    \n",
    "    # Get the stuff they rated, and add up ratings for each item, weighted by user similarity\n",
    "    candidates = defaultdict(float)\n",
    "    for similarUser in kNeighbors:\n",
    "        innerID = similarUser[0]\n",
    "        userSimilarityScore = similarUser[1]\n",
    "        theirRatings = trainSet.ur[innerID]\n",
    "        for rating in theirRatings:\n",
    "            candidates[rating[0]] += (rating[1] / 5.0) * userSimilarityScore\n",
    "        \n",
    "    # Build a dictionary of stuff the user has already seen\n",
    "    watched = {}\n",
    "    for itemID, rating in trainSet.ur[uiid]:\n",
    "        watched[itemID] = 1\n",
    "        \n",
    "    # Get top-rated items from similar users:\n",
    "    pos = 0\n",
    "    for itemID, ratingSum in sorted(candidates.items(), key=itemgetter(1), reverse=True):\n",
    "        if not itemID in watched:\n",
    "            movieID = trainSet.to_raw_iid(itemID)\n",
    "            topN[int(trainSet.to_raw_uid(uiid))].append( (int(movieID), 0.0) )\n",
    "            pos += 1\n",
    "            if (pos > 40):\n",
    "                break "
   ]
  },
  {
   "cell_type": "code",
   "execution_count": 6,
   "id": "a8887047-be7b-4502-bb2b-ccddccdc51f3",
   "metadata": {},
   "outputs": [
    {
     "name": "stdout",
     "output_type": "stream",
     "text": [
      "HR 0.04420731707317073\n"
     ]
    }
   ],
   "source": [
    "# Measure\n",
    "print(\"HR\", RecommenderMetrics.HitRate(topN, leftOutTestSet))"
   ]
  }
 ],
 "metadata": {
  "kernelspec": {
   "display_name": "Python 3 (ipykernel)",
   "language": "python",
   "name": "python3"
  },
  "language_info": {
   "codemirror_mode": {
    "name": "ipython",
    "version": 3
   },
   "file_extension": ".py",
   "mimetype": "text/x-python",
   "name": "python",
   "nbconvert_exporter": "python",
   "pygments_lexer": "ipython3",
   "version": "3.7.9"
  }
 },
 "nbformat": 4,
 "nbformat_minor": 5
}
